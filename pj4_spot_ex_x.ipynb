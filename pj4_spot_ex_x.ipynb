{
 "cells": [
  {
   "cell_type": "code",
   "execution_count": 1,
   "id": "2aa3188f",
   "metadata": {},
   "outputs": [],
   "source": [
    "from mmocr_custom.mmocr.datasets import OCRDataset\n",
    "from mmengine.registry import init_default_scope\n",
    "from mmocr.apis import MMOCRInferencer\n",
    "from mmengine.runner import Runner\n",
    "import time\n",
    "import mmcv\n",
    "import matplotlib.pyplot as plt\n",
    "from mmengine.runner import Runner\n",
    "from mmengine import Config\n",
    "from mmocr_custom.mmocr.apis import MMOCRInferencer"
   ]
  },
  {
   "cell_type": "code",
   "execution_count": 2,
   "id": "3feeedff",
   "metadata": {},
   "outputs": [
    {
     "data": {
      "text/plain": [
       "'C:\\\\Users\\\\thffh\\\\Documents\\\\project\\\\project_4\\\\mini_project_4'"
      ]
     },
     "execution_count": 2,
     "metadata": {},
     "output_type": "execute_result"
    }
   ],
   "source": [
    "%pwd"
   ]
  },
  {
   "cell_type": "code",
   "execution_count": 3,
   "id": "85846a0b",
   "metadata": {},
   "outputs": [
    {
     "name": "stdout",
     "output_type": "stream",
     "text": [
      "C:\\Users\\thffh\\Documents\\project\\project_4\\mini_project_4\\mmocr_custom\n"
     ]
    }
   ],
   "source": [
    "%cd mmocr_custom"
   ]
  },
  {
   "cell_type": "code",
   "execution_count": 4,
   "id": "1c64a555",
   "metadata": {},
   "outputs": [
    {
     "data": {
      "text/plain": [
       "'C:\\\\Users\\\\thffh\\\\Documents\\\\project\\\\project_4\\\\mini_project_4\\\\mmocr_custom'"
      ]
     },
     "execution_count": 4,
     "metadata": {},
     "output_type": "execute_result"
    }
   ],
   "source": [
    "%pwd"
   ]
  },
  {
   "cell_type": "code",
   "execution_count": 5,
   "id": "d1c4eeab",
   "metadata": {},
   "outputs": [
    {
     "name": "stdout",
     "output_type": "stream",
     "text": [
      "C:\\Users\\thffh\\Documents\\project\\project_4\\mini_project_4\\mmocr_custom\\projects\n"
     ]
    }
   ],
   "source": [
    "%cd projects"
   ]
  },
  {
   "cell_type": "code",
   "execution_count": 6,
   "id": "0854dd58",
   "metadata": {
    "scrolled": true
   },
   "outputs": [
    {
     "data": {
      "text/plain": [
       "'C:\\\\Users\\\\thffh\\\\Documents\\\\project\\\\project_4\\\\mini_project_4\\\\mmocr_custom\\\\projects'"
      ]
     },
     "execution_count": 6,
     "metadata": {},
     "output_type": "execute_result"
    }
   ],
   "source": [
    "%pwd"
   ]
  },
  {
   "cell_type": "code",
   "execution_count": 7,
   "id": "b459960f",
   "metadata": {
    "scrolled": true
   },
   "outputs": [
    {
     "name": "stdout",
     "output_type": "stream",
     "text": [
      "C:\\Users\\thffh\\Documents\\project\\project_4\\mini_project_4\\mmocr_custom\\projects\\ABCNet\n"
     ]
    }
   ],
   "source": [
    "%cd ABCNet"
   ]
  },
  {
   "cell_type": "code",
   "execution_count": null,
   "id": "ec5f01d8",
   "metadata": {},
   "outputs": [],
   "source": []
  },
  {
   "cell_type": "code",
   "execution_count": 8,
   "id": "7f8173c3",
   "metadata": {},
   "outputs": [],
   "source": [
    "root = 'C:/Users/thffh/Documents/project/project_4/mini_project_4/'"
   ]
  },
  {
   "cell_type": "code",
   "execution_count": 9,
   "id": "ec460773",
   "metadata": {},
   "outputs": [],
   "source": [
    "cfg = Config.fromfile('config/abcnet/abcnet_resnet50_fpn_500e_icdar2015.py')"
   ]
  },
  {
   "cell_type": "code",
   "execution_count": 10,
   "id": "af6a259a",
   "metadata": {},
   "outputs": [
    {
     "data": {
      "text/plain": [
       "dict_keys(['num_classes', 'strides', 'bbox_coder', 'with_bezier', 'norm_on_bbox', 'use_sigmoid_cls', 'dictionary', 'model', 'test_pipeline', 'train_pipeline', 'icdar2015_textspotting_data_root', 'icdar2015_textspotting_train', 'icdar2015_textspotting_test', 'default_scope', 'env_cfg', 'randomness', 'default_hooks', 'log_level', 'log_processor', 'load_from', 'resume', 'val_evaluator', 'test_evaluator', 'vis_backends', 'visualizer', 'optim_wrapper', 'train_cfg', 'val_cfg', 'test_cfg', 'param_scheduler', 'train_dataloader', 'val_dataloader', 'test_dataloader', 'custom_imports', 'find_unused_parameters'])"
      ]
     },
     "execution_count": 10,
     "metadata": {},
     "output_type": "execute_result"
    }
   ],
   "source": [
    "cfg.keys()"
   ]
  },
  {
   "cell_type": "code",
   "execution_count": 11,
   "id": "7086c1c2",
   "metadata": {},
   "outputs": [],
   "source": [
    "cfg.train_dataloader.num_workers=1\n",
    "cfg.val_dataloader.num_workers=1\n",
    "cfg.test_dataloader.num_workers=1"
   ]
  },
  {
   "cell_type": "code",
   "execution_count": 12,
   "id": "828a8e5c",
   "metadata": {},
   "outputs": [],
   "source": [
    "cfg.dictionary = root+'mmocr_custom/dicts/kor_digits2.txt'"
   ]
  },
  {
   "cell_type": "code",
   "execution_count": 13,
   "id": "8bde2ca0",
   "metadata": {},
   "outputs": [],
   "source": [
    "cfg.work_dir = 'work_dirs/test1/'"
   ]
  },
  {
   "cell_type": "code",
   "execution_count": 14,
   "id": "5ad92345",
   "metadata": {},
   "outputs": [],
   "source": [
    "cfg.train_cfg.max_epochs=1\n",
    "cfg.train_cfg.val_interval=1"
   ]
  },
  {
   "cell_type": "code",
   "execution_count": 15,
   "id": "ebae81b8",
   "metadata": {},
   "outputs": [],
   "source": [
    "cfg.model.roi_head.rec_head.decoder.dictionary.dict_file = root+'mmocr_custom/dicts/kor_digits2.txt'"
   ]
  },
  {
   "cell_type": "code",
   "execution_count": 16,
   "id": "bf0da0cc",
   "metadata": {},
   "outputs": [],
   "source": [
    "cfg.icdar2015_textspotting_data_root = root+'Temp/temp_Sign'"
   ]
  },
  {
   "cell_type": "code",
   "execution_count": 17,
   "id": "19ea106b",
   "metadata": {},
   "outputs": [],
   "source": [
    "cfg.icdar2015_textspotting_train.data_root = root+'Temp/temp_Sign'\n",
    "cfg.icdar2015_textspotting_train.ann_file = root+'Temp/spot_train_annotation.json'"
   ]
  },
  {
   "cell_type": "code",
   "execution_count": 18,
   "id": "b27c4072",
   "metadata": {},
   "outputs": [],
   "source": [
    "cfg.icdar2015_textspotting_test.data_root = root+'Temp/temp_Sign'\n",
    "cfg.icdar2015_textspotting_test.ann_file = root+'Temp/spot_test_annotation.json'"
   ]
  },
  {
   "cell_type": "code",
   "execution_count": 19,
   "id": "0362b4f8",
   "metadata": {},
   "outputs": [],
   "source": [
    "cfg.train_dataloader.batch_size=1\n",
    "cfg.train_dataloader.dataset.data_root = root+'Temp/temp_Sign'\n",
    "cfg.train_dataloader.dataset.ann_file = root+'Temp/spot_train_annotation.json'"
   ]
  },
  {
   "cell_type": "code",
   "execution_count": 20,
   "id": "cb7a933c",
   "metadata": {},
   "outputs": [],
   "source": [
    "cfg.val_dataloader.batch_size=1\n",
    "cfg.val_dataloader.dataset.data_root = root+'Temp/temp_Sign'\n",
    "cfg.val_dataloader.dataset.ann_file = root+'Temp/spot_test_annotation.json'"
   ]
  },
  {
   "cell_type": "code",
   "execution_count": 21,
   "id": "1954c266",
   "metadata": {},
   "outputs": [],
   "source": [
    "cfg.test_dataloader.batch_size=1\n",
    "cfg.test_dataloader.dataset.data_root = root+'Temp/temp_Sign'\n",
    "cfg.test_dataloader.dataset.ann_file = root+'Temp/spot_test_annotation.json'"
   ]
  },
  {
   "cell_type": "code",
   "execution_count": 24,
   "id": "d14cfdd9",
   "metadata": {},
   "outputs": [
    {
     "data": {
      "text/plain": [
       "Config (path: config/abcnet/abcnet_resnet50_fpn_500e_icdar2015.py): {'num_classes': 1, 'strides': [8, 16, 32, 64, 128], 'bbox_coder': {'type': 'mmdet.DistancePointBBoxCoder'}, 'with_bezier': True, 'norm_on_bbox': True, 'use_sigmoid_cls': True, 'dictionary': 'C:/Users/thffh/Documents/project/project_4/mini_project_4/mmocr_custom/dicts/kor_digits2.txt', 'model': {'type': 'ABCNet', 'data_preprocessor': {'type': 'TextDetDataPreprocessor', 'mean': [103.53, 116.28, 123.675], 'std': [1, 1, 1], 'bgr_to_rgb': False, 'pad_size_divisor': 32}, 'backbone': {'type': 'mmdet.ResNet', 'depth': 50, 'num_stages': 4, 'out_indices': (0, 1, 2, 3), 'frozen_stages': 1, 'norm_cfg': {'type': 'BN', 'requires_grad': False}, 'norm_eval': True, 'style': 'caffe', 'init_cfg': {'type': 'Pretrained', 'checkpoint': 'open-mmlab://detectron2/resnet50_caffe'}}, 'neck': {'type': 'mmdet.FPN', 'in_channels': [256, 512, 1024, 2048], 'out_channels': 256, 'start_level': 0, 'add_extra_convs': 'on_output', 'num_outs': 6, 'relu_before_extra_convs': True}, 'det_head': {'type': 'ABCNetDetHead', 'num_classes': 1, 'in_channels': 256, 'stacked_convs': 4, 'feat_channels': 256, 'strides': [8, 16, 32, 64, 128], 'norm_on_bbox': True, 'use_sigmoid_cls': True, 'centerness_on_reg': True, 'dcn_on_last_conv': False, 'conv_bias': True, 'use_scale': False, 'with_bezier': True, 'init_cfg': {'type': 'Normal', 'layer': 'Conv2d', 'std': 0.01, 'override': {'type': 'Normal', 'name': 'conv_cls', 'std': 0.01, 'bias': -4.59511985013459}}, 'module_loss': {'type': 'ABCNetDetModuleLoss', 'num_classes': 1, 'strides': [8, 16, 32, 64, 128], 'center_sampling': True, 'center_sample_radius': 1.5, 'bbox_coder': {'type': 'mmdet.DistancePointBBoxCoder'}, 'norm_on_bbox': True, 'loss_cls': {'type': 'mmdet.FocalLoss', 'use_sigmoid': True, 'gamma': 2.0, 'alpha': 0.25, 'loss_weight': 1.0}, 'loss_bbox': {'type': 'mmdet.GIoULoss', 'loss_weight': 1.0}, 'loss_centerness': {'type': 'mmdet.CrossEntropyLoss', 'use_sigmoid': True, 'loss_weight': 1.0}}, 'postprocessor': {'type': 'ABCNetDetPostprocessor', 'use_sigmoid_cls': True, 'strides': [8, 16, 32, 64, 128], 'bbox_coder': {'type': 'mmdet.DistancePointBBoxCoder'}, 'with_bezier': True, 'test_cfg': {'nms_pre': 1000, 'nms': {'type': 'nms', 'iou_threshold': 0.5}, 'score_thr': 0.3}}}, 'roi_head': {'type': 'RecRoIHead', 'roi_extractor': {'type': 'BezierRoIExtractor', 'roi_layer': {'type': 'BezierAlign', 'output_size': (8, 32), 'sampling_ratio': 1.0}, 'out_channels': 256, 'featmap_strides': [4, 8, 16]}, 'rec_head': {'type': 'ABCNetRec', 'backbone': {'type': 'ABCNetRecBackbone'}, 'encoder': {'type': 'ABCNetRecEncoder'}, 'decoder': {'type': 'ABCNetRecDecoder', 'dictionary': {'type': 'Dictionary', 'dict_file': 'C:/Users/thffh/Documents/project/project_4/mini_project_4/mmocr_custom/dicts/kor_digits2.txt', 'with_start': False, 'with_end': False, 'same_start_end': False, 'with_padding': True, 'with_unknown': True}, 'postprocessor': {'type': 'AttentionPostprocessor', 'ignore_chars': ['padding', 'unknown']}, 'module_loss': {'type': 'CEModuleLoss', 'ignore_first_char': False, 'ignore_char': -1, 'reduction': 'mean'}, 'max_seq_len': 25}}}, 'postprocessor': {'type': 'ABCNetPostprocessor', 'rescale_fields': ['polygons', 'bboxes', 'beziers']}}, 'test_pipeline': [{'type': 'LoadImageFromFile', 'color_type': 'color_ignore_orientation'}, {'type': 'Resize', 'scale': (2000, 4000), 'keep_ratio': True, 'backend': 'pillow'}, {'type': 'LoadOCRAnnotations', 'with_polygon': True, 'with_bbox': True, 'with_label': True, 'with_text': True}, {'type': 'PackTextDetInputs', 'meta_keys': ('img_path', 'ori_shape', 'img_shape', 'scale_factor')}], 'train_pipeline': [{'type': 'LoadImageFromFile', 'color_type': 'color_ignore_orientation'}, {'type': 'LoadOCRAnnotations', 'with_polygon': True, 'with_bbox': True, 'with_label': True, 'with_text': True}, {'type': 'RemoveIgnored'}, {'type': 'RandomCrop', 'min_side_ratio': 0.1}, {'type': 'RandomRotate', 'max_angle': 30, 'pad_with_fixed_color': True, 'use_canvas': True}, {'type': 'RandomChoiceResize', 'scales': [(980, 2900), (1044, 2900), (1108, 2900), (1172, 2900), (1236, 2900), (1300, 2900), (1364, 2900), (1428, 2900), (1492, 2900)], 'keep_ratio': True}, {'type': 'PackTextDetInputs', 'meta_keys': ('img_path', 'ori_shape', 'img_shape', 'scale_factor')}], 'icdar2015_textspotting_data_root': 'C:/Users/thffh/Documents/project/project_4/mini_project_4/Temp/temp_Sign', 'icdar2015_textspotting_train': {'type': 'OCRDataset', 'data_root': 'C:/Users/thffh/Documents/project/project_4/mini_project_4/Temp/temp_Sign', 'ann_file': 'C:/Users/thffh/Documents/project/project_4/mini_project_4/Temp/spot_train_annotation.json', 'pipeline': [{'type': 'LoadImageFromFile', 'color_type': 'color_ignore_orientation'}, {'type': 'LoadOCRAnnotations', 'with_polygon': True, 'with_bbox': True, 'with_label': True, 'with_text': True}, {'type': 'RemoveIgnored'}, {'type': 'RandomCrop', 'min_side_ratio': 0.1}, {'type': 'RandomRotate', 'max_angle': 30, 'pad_with_fixed_color': True, 'use_canvas': True}, {'type': 'RandomChoiceResize', 'scales': [(980, 2900), (1044, 2900), (1108, 2900), (1172, 2900), (1236, 2900), (1300, 2900), (1364, 2900), (1428, 2900), (1492, 2900)], 'keep_ratio': True}, {'type': 'PackTextDetInputs', 'meta_keys': ('img_path', 'ori_shape', 'img_shape', 'scale_factor')}]}, 'icdar2015_textspotting_test': {'type': 'OCRDataset', 'data_root': 'C:/Users/thffh/Documents/project/project_4/mini_project_4/Temp/temp_Sign', 'ann_file': 'C:/Users/thffh/Documents/project/project_4/mini_project_4/Temp/spot_test_annotation.json', 'test_mode': True, 'pipeline': [{'type': 'LoadImageFromFile', 'color_type': 'color_ignore_orientation'}, {'type': 'Resize', 'scale': (2000, 4000), 'keep_ratio': True, 'backend': 'pillow'}, {'type': 'LoadOCRAnnotations', 'with_polygon': True, 'with_bbox': True, 'with_label': True, 'with_text': True}, {'type': 'PackTextDetInputs', 'meta_keys': ('img_path', 'ori_shape', 'img_shape', 'scale_factor')}]}, 'default_scope': 'mmocr', 'env_cfg': {'cudnn_benchmark': False, 'mp_cfg': {'mp_start_method': 'fork', 'opencv_num_threads': 0}, 'dist_cfg': {'backend': 'nccl'}}, 'randomness': {'seed': None}, 'default_hooks': {'timer': {'type': 'IterTimerHook'}, 'logger': {'type': 'LoggerHook', 'interval': 5}, 'param_scheduler': {'type': 'ParamSchedulerHook'}, 'checkpoint': {'type': 'CheckpointHook', 'interval': 20}, 'sampler_seed': {'type': 'DistSamplerSeedHook'}, 'sync_buffer': {'type': 'SyncBuffersHook'}, 'visualization': {'type': 'VisualizationHook', 'interval': 1, 'enable': False, 'show': False, 'draw_gt': False, 'draw_pred': False}}, 'log_level': 'INFO', 'log_processor': {'type': 'LogProcessor', 'window_size': 10, 'by_epoch': True}, 'load_from': 'https://download.openmmlab.com/mmocr/textspotting/abcnet/abcnet_resnet50_fpn_500e_icdar2015/abcnet_resnet50_fpn_pretrain-d060636c.pth', 'resume': False, 'val_evaluator': [{'type': 'E2EHmeanIOUMetric'}, {'type': 'HmeanIOUMetric'}], 'test_evaluator': [{'type': 'E2EHmeanIOUMetric'}, {'type': 'HmeanIOUMetric'}], 'vis_backends': [{'type': 'LocalVisBackend'}], 'visualizer': {'type': 'TextSpottingLocalVisualizer', 'name': 'time.struct_time(tm_year=2023, tm_mon=5, tm_mday=18, tm_hour=12, tm_min=25, tm_sec=21, tm_wday=3, tm_yday=138, tm_isdst=0)', 'vis_backends': [{'type': 'LocalVisBackend'}]}, 'optim_wrapper': {'type': 'OptimWrapper', 'optimizer': {'type': 'SGD', 'lr': 0.001, 'momentum': 0.9, 'weight_decay': 0.0001}, 'clip_grad': {'type': 'value', 'clip_value': 1}}, 'train_cfg': {'type': 'EpochBasedTrainLoop', 'max_epochs': 1, 'val_interval': 1}, 'val_cfg': {'type': 'ValLoop'}, 'test_cfg': {'type': 'TestLoop'}, 'param_scheduler': [{'type': 'LinearLR', 'end': 1000, 'start_factor': 0.001, 'by_epoch': False}], 'train_dataloader': {'batch_size': 1, 'num_workers': 1, 'persistent_workers': True, 'sampler': {'type': 'DefaultSampler', 'shuffle': True}, 'dataset': {'type': 'OCRDataset', 'data_root': 'C:/Users/thffh/Documents/project/project_4/mini_project_4/Temp/temp_Sign', 'ann_file': 'C:/Users/thffh/Documents/project/project_4/mini_project_4/Temp/spot_train_annotation.json', 'pipeline': [{'type': 'LoadImageFromFile', 'color_type': 'color_ignore_orientation'}, {'type': 'LoadOCRAnnotations', 'with_polygon': True, 'with_bbox': True, 'with_label': True, 'with_text': True}, {'type': 'RemoveIgnored'}, {'type': 'RandomCrop', 'min_side_ratio': 0.1}, {'type': 'RandomRotate', 'max_angle': 30, 'pad_with_fixed_color': True, 'use_canvas': True}, {'type': 'RandomChoiceResize', 'scales': [(980, 2900), (1044, 2900), (1108, 2900), (1172, 2900), (1236, 2900), (1300, 2900), (1364, 2900), (1428, 2900), (1492, 2900)], 'keep_ratio': True}, {'type': 'PackTextDetInputs', 'meta_keys': ('img_path', 'ori_shape', 'img_shape', 'scale_factor')}]}}, 'val_dataloader': {'batch_size': 1, 'num_workers': 1, 'persistent_workers': True, 'sampler': {'type': 'DefaultSampler', 'shuffle': False}, 'dataset': {'type': 'OCRDataset', 'data_root': 'C:/Users/thffh/Documents/project/project_4/mini_project_4/Temp/temp_Sign', 'ann_file': 'C:/Users/thffh/Documents/project/project_4/mini_project_4/Temp/spot_test_annotation.json', 'test_mode': True, 'pipeline': [{'type': 'LoadImageFromFile', 'color_type': 'color_ignore_orientation'}, {'type': 'Resize', 'scale': (2000, 4000), 'keep_ratio': True, 'backend': 'pillow'}, {'type': 'LoadOCRAnnotations', 'with_polygon': True, 'with_bbox': True, 'with_label': True, 'with_text': True}, {'type': 'PackTextDetInputs', 'meta_keys': ('img_path', 'ori_shape', 'img_shape', 'scale_factor')}]}}, 'test_dataloader': {'batch_size': 1, 'num_workers': 1, 'persistent_workers': True, 'sampler': {'type': 'DefaultSampler', 'shuffle': False}, 'dataset': {'type': 'OCRDataset', 'data_root': 'C:/Users/thffh/Documents/project/project_4/mini_project_4/Temp/temp_Sign', 'ann_file': 'C:/Users/thffh/Documents/project/project_4/mini_project_4/Temp/spot_test_annotation.json', 'test_mode': True, 'pipeline': [{'type': 'LoadImageFromFile', 'color_type': 'color_ignore_orientation'}, {'type': 'Resize', 'scale': (2000, 4000), 'keep_ratio': True, 'backend': 'pillow'}, {'type': 'LoadOCRAnnotations', 'with_polygon': True, 'with_bbox': True, 'with_label': True, 'with_text': True}, {'type': 'PackTextDetInputs', 'meta_keys': ('img_path', 'ori_shape', 'img_shape', 'scale_factor')}]}}, 'custom_imports': {'imports': ['abcnet'], 'allow_failed_imports': False}, 'find_unused_parameters': True, 'work_dir': 'work_dirs/test1/'}"
      ]
     },
     "execution_count": 24,
     "metadata": {},
     "output_type": "execute_result"
    }
   ],
   "source": [
    "cfg"
   ]
  },
  {
   "cell_type": "code",
   "execution_count": 22,
   "id": "77b78084",
   "metadata": {},
   "outputs": [
    {
     "name": "stdout",
     "output_type": "stream",
     "text": [
      "05/18 12:25:26 - mmengine - \u001b[4m\u001b[97mINFO\u001b[0m - \n",
      "------------------------------------------------------------\n",
      "System environment:\n",
      "    sys.platform: win32\n",
      "    Python: 3.10.9 | packaged by Anaconda, Inc. | (main, Mar  1 2023, 18:18:15) [MSC v.1916 64 bit (AMD64)]\n",
      "    CUDA available: True\n",
      "    numpy_random_seed: 588660876\n",
      "    GPU 0: NVIDIA GeForce RTX 2070 SUPER\n",
      "    CUDA_HOME: C:\\Program Files\\NVIDIA GPU Computing Toolkit\\CUDA\\v11.8\n",
      "    NVCC: Cuda compilation tools, release 11.8, V11.8.89\n",
      "    MSVC: n/a, reason: fileno\n",
      "    PyTorch: 2.0.0+cu118\n",
      "    PyTorch compiling details: PyTorch built with:\n",
      "  - C++ Version: 199711\n",
      "  - MSVC 193431937\n",
      "  - Intel(R) Math Kernel Library Version 2020.0.2 Product Build 20200624 for Intel(R) 64 architecture applications\n",
      "  - Intel(R) MKL-DNN v2.7.3 (Git Hash 6dbeffbae1f23cbbeae17adb7b5b13f1f37c080e)\n",
      "  - OpenMP 2019\n",
      "  - LAPACK is enabled (usually provided by MKL)\n",
      "  - CPU capability usage: AVX2\n",
      "  - CUDA Runtime 11.8\n",
      "  - NVCC architecture flags: -gencode;arch=compute_37,code=sm_37;-gencode;arch=compute_50,code=sm_50;-gencode;arch=compute_60,code=sm_60;-gencode;arch=compute_61,code=sm_61;-gencode;arch=compute_70,code=sm_70;-gencode;arch=compute_75,code=sm_75;-gencode;arch=compute_80,code=sm_80;-gencode;arch=compute_86,code=sm_86;-gencode;arch=compute_90,code=sm_90;-gencode;arch=compute_37,code=compute_37\n",
      "  - CuDNN 8.7\n",
      "  - Magma 2.5.4\n",
      "  - Build settings: BLAS_INFO=mkl, BUILD_TYPE=Release, CUDA_VERSION=11.8, CUDNN_VERSION=8.7.0, CXX_COMPILER=C:/actions-runner/_work/pytorch/pytorch/builder/windows/tmp_bin/sccache-cl.exe, CXX_FLAGS=/DWIN32 /D_WINDOWS /GR /EHsc /w /bigobj /FS -DUSE_PTHREADPOOL -DNDEBUG -DUSE_KINETO -DLIBKINETO_NOCUPTI -DLIBKINETO_NOROCTRACER -DUSE_FBGEMM -DUSE_XNNPACK -DSYMBOLICATE_MOBILE_DEBUG_HANDLE, LAPACK_INFO=mkl, PERF_WITH_AVX=1, PERF_WITH_AVX2=1, PERF_WITH_AVX512=1, TORCH_DISABLE_GPU_ASSERTS=OFF, TORCH_VERSION=2.0.0, USE_CUDA=ON, USE_CUDNN=ON, USE_EXCEPTION_PTR=1, USE_GFLAGS=OFF, USE_GLOG=OFF, USE_MKL=ON, USE_MKLDNN=ON, USE_MPI=OFF, USE_NCCL=OFF, USE_NNPACK=OFF, USE_OPENMP=ON, USE_ROCM=OFF, \n",
      "\n",
      "    TorchVision: 0.15.1+cu118\n",
      "    OpenCV: 4.5.4\n",
      "    MMEngine: 0.7.3\n",
      "\n",
      "Runtime environment:\n",
      "    cudnn_benchmark: False\n",
      "    mp_cfg: {'mp_start_method': 'fork', 'opencv_num_threads': 0}\n",
      "    dist_cfg: {'backend': 'nccl'}\n",
      "    seed: None\n",
      "    Distributed launcher: none\n",
      "    Distributed training: False\n",
      "    GPU number: 1\n",
      "------------------------------------------------------------\n",
      "\n",
      "05/18 12:25:29 - mmengine - \u001b[4m\u001b[97mINFO\u001b[0m - Config:\n",
      "num_classes = 1\n",
      "strides = [8, 16, 32, 64, 128]\n",
      "bbox_coder = dict(type='mmdet.DistancePointBBoxCoder')\n",
      "with_bezier = True\n",
      "norm_on_bbox = True\n",
      "use_sigmoid_cls = True\n",
      "dictionary = 'C:/Users/thffh/Documents/project/project_4/mini_project_4/mmocr_custom/dicts/kor_digits2.txt'\n",
      "model = dict(\n",
      "    type='ABCNet',\n",
      "    data_preprocessor=dict(\n",
      "        type='TextDetDataPreprocessor',\n",
      "        mean=[103.53, 116.28, 123.675],\n",
      "        std=[1, 1, 1],\n",
      "        bgr_to_rgb=False,\n",
      "        pad_size_divisor=32),\n",
      "    backbone=dict(\n",
      "        type='mmdet.ResNet',\n",
      "        depth=50,\n",
      "        num_stages=4,\n",
      "        out_indices=(0, 1, 2, 3),\n",
      "        frozen_stages=1,\n",
      "        norm_cfg=dict(type='BN', requires_grad=False),\n",
      "        norm_eval=True,\n",
      "        style='caffe',\n",
      "        init_cfg=dict(\n",
      "            type='Pretrained',\n",
      "            checkpoint='open-mmlab://detectron2/resnet50_caffe')),\n",
      "    neck=dict(\n",
      "        type='mmdet.FPN',\n",
      "        in_channels=[256, 512, 1024, 2048],\n",
      "        out_channels=256,\n",
      "        start_level=0,\n",
      "        add_extra_convs='on_output',\n",
      "        num_outs=6,\n",
      "        relu_before_extra_convs=True),\n",
      "    det_head=dict(\n",
      "        type='ABCNetDetHead',\n",
      "        num_classes=1,\n",
      "        in_channels=256,\n",
      "        stacked_convs=4,\n",
      "        feat_channels=256,\n",
      "        strides=[8, 16, 32, 64, 128],\n",
      "        norm_on_bbox=True,\n",
      "        use_sigmoid_cls=True,\n",
      "        centerness_on_reg=True,\n",
      "        dcn_on_last_conv=False,\n",
      "        conv_bias=True,\n",
      "        use_scale=False,\n",
      "        with_bezier=True,\n",
      "        init_cfg=dict(\n",
      "            type='Normal',\n",
      "            layer='Conv2d',\n",
      "            std=0.01,\n",
      "            override=dict(\n",
      "                type='Normal',\n",
      "                name='conv_cls',\n",
      "                std=0.01,\n",
      "                bias=-4.59511985013459)),\n",
      "        module_loss=dict(\n",
      "            type='ABCNetDetModuleLoss',\n",
      "            num_classes=1,\n",
      "            strides=[8, 16, 32, 64, 128],\n",
      "            center_sampling=True,\n",
      "            center_sample_radius=1.5,\n",
      "            bbox_coder=dict(type='mmdet.DistancePointBBoxCoder'),\n",
      "            norm_on_bbox=True,\n",
      "            loss_cls=dict(\n",
      "                type='mmdet.FocalLoss',\n",
      "                use_sigmoid=True,\n",
      "                gamma=2.0,\n",
      "                alpha=0.25,\n",
      "                loss_weight=1.0),\n",
      "            loss_bbox=dict(type='mmdet.GIoULoss', loss_weight=1.0),\n",
      "            loss_centerness=dict(\n",
      "                type='mmdet.CrossEntropyLoss',\n",
      "                use_sigmoid=True,\n",
      "                loss_weight=1.0)),\n",
      "        postprocessor=dict(\n",
      "            type='ABCNetDetPostprocessor',\n",
      "            use_sigmoid_cls=True,\n",
      "            strides=[8, 16, 32, 64, 128],\n",
      "            bbox_coder=dict(type='mmdet.DistancePointBBoxCoder'),\n",
      "            with_bezier=True,\n",
      "            test_cfg=dict(\n",
      "                nms_pre=1000,\n",
      "                nms=dict(type='nms', iou_threshold=0.5),\n",
      "                score_thr=0.3))),\n",
      "    roi_head=dict(\n",
      "        type='RecRoIHead',\n",
      "        roi_extractor=dict(\n",
      "            type='BezierRoIExtractor',\n",
      "            roi_layer=dict(\n",
      "                type='BezierAlign', output_size=(8, 32), sampling_ratio=1.0),\n",
      "            out_channels=256,\n",
      "            featmap_strides=[4, 8, 16]),\n",
      "        rec_head=dict(\n",
      "            type='ABCNetRec',\n",
      "            backbone=dict(type='ABCNetRecBackbone'),\n",
      "            encoder=dict(type='ABCNetRecEncoder'),\n",
      "            decoder=dict(\n",
      "                type='ABCNetRecDecoder',\n",
      "                dictionary=dict(\n",
      "                    type='Dictionary',\n",
      "                    dict_file=\n",
      "                    'C:/Users/thffh/Documents/project/project_4/mini_project_4/mmocr_custom/dicts/kor_digits2.txt',\n",
      "                    with_start=False,\n",
      "                    with_end=False,\n",
      "                    same_start_end=False,\n",
      "                    with_padding=True,\n",
      "                    with_unknown=True),\n",
      "                postprocessor=dict(\n",
      "                    type='AttentionPostprocessor',\n",
      "                    ignore_chars=['padding', 'unknown']),\n",
      "                module_loss=dict(\n",
      "                    type='CEModuleLoss',\n",
      "                    ignore_first_char=False,\n",
      "                    ignore_char=-1,\n",
      "                    reduction='mean'),\n",
      "                max_seq_len=25))),\n",
      "    postprocessor=dict(\n",
      "        type='ABCNetPostprocessor',\n",
      "        rescale_fields=['polygons', 'bboxes', 'beziers']))\n",
      "test_pipeline = [\n",
      "    dict(type='LoadImageFromFile', color_type='color_ignore_orientation'),\n",
      "    dict(type='Resize', scale=(2000, 4000), keep_ratio=True, backend='pillow'),\n",
      "    dict(\n",
      "        type='LoadOCRAnnotations',\n",
      "        with_polygon=True,\n",
      "        with_bbox=True,\n",
      "        with_label=True,\n",
      "        with_text=True),\n",
      "    dict(\n",
      "        type='PackTextDetInputs',\n",
      "        meta_keys=('img_path', 'ori_shape', 'img_shape', 'scale_factor'))\n",
      "]\n",
      "train_pipeline = [\n",
      "    dict(type='LoadImageFromFile', color_type='color_ignore_orientation'),\n",
      "    dict(\n",
      "        type='LoadOCRAnnotations',\n",
      "        with_polygon=True,\n",
      "        with_bbox=True,\n",
      "        with_label=True,\n",
      "        with_text=True),\n",
      "    dict(type='RemoveIgnored'),\n",
      "    dict(type='RandomCrop', min_side_ratio=0.1),\n",
      "    dict(\n",
      "        type='RandomRotate',\n",
      "        max_angle=30,\n",
      "        pad_with_fixed_color=True,\n",
      "        use_canvas=True),\n",
      "    dict(\n",
      "        type='RandomChoiceResize',\n",
      "        scales=[(980, 2900), (1044, 2900), (1108, 2900), (1172, 2900),\n",
      "                (1236, 2900), (1300, 2900), (1364, 2900), (1428, 2900),\n",
      "                (1492, 2900)],\n",
      "        keep_ratio=True),\n",
      "    dict(\n",
      "        type='PackTextDetInputs',\n",
      "        meta_keys=('img_path', 'ori_shape', 'img_shape', 'scale_factor'))\n",
      "]\n",
      "icdar2015_textspotting_data_root = 'C:/Users/thffh/Documents/project/project_4/mini_project_4/Temp/temp_Sign'\n",
      "icdar2015_textspotting_train = dict(\n",
      "    type='OCRDataset',\n",
      "    data_root=\n",
      "    'C:/Users/thffh/Documents/project/project_4/mini_project_4/Temp/temp_Sign',\n",
      "    ann_file=\n",
      "    'C:/Users/thffh/Documents/project/project_4/mini_project_4/Temp/spot_train_annotation.json',\n",
      "    pipeline=[\n",
      "        dict(type='LoadImageFromFile', color_type='color_ignore_orientation'),\n",
      "        dict(\n",
      "            type='LoadOCRAnnotations',\n",
      "            with_polygon=True,\n",
      "            with_bbox=True,\n",
      "            with_label=True,\n",
      "            with_text=True),\n",
      "        dict(type='RemoveIgnored'),\n",
      "        dict(type='RandomCrop', min_side_ratio=0.1),\n",
      "        dict(\n",
      "            type='RandomRotate',\n",
      "            max_angle=30,\n",
      "            pad_with_fixed_color=True,\n",
      "            use_canvas=True),\n",
      "        dict(\n",
      "            type='RandomChoiceResize',\n",
      "            scales=[(980, 2900), (1044, 2900), (1108, 2900), (1172, 2900),\n",
      "                    (1236, 2900), (1300, 2900), (1364, 2900), (1428, 2900),\n",
      "                    (1492, 2900)],\n",
      "            keep_ratio=True),\n",
      "        dict(\n",
      "            type='PackTextDetInputs',\n",
      "            meta_keys=('img_path', 'ori_shape', 'img_shape', 'scale_factor'))\n",
      "    ])\n",
      "icdar2015_textspotting_test = dict(\n",
      "    type='OCRDataset',\n",
      "    data_root=\n",
      "    'C:/Users/thffh/Documents/project/project_4/mini_project_4/Temp/temp_Sign',\n",
      "    ann_file=\n",
      "    'C:/Users/thffh/Documents/project/project_4/mini_project_4/Temp/spot_test_annotation.json',\n",
      "    test_mode=True,\n",
      "    pipeline=[\n",
      "        dict(type='LoadImageFromFile', color_type='color_ignore_orientation'),\n",
      "        dict(\n",
      "            type='Resize',\n",
      "            scale=(2000, 4000),\n",
      "            keep_ratio=True,\n",
      "            backend='pillow'),\n",
      "        dict(\n",
      "            type='LoadOCRAnnotations',\n",
      "            with_polygon=True,\n",
      "            with_bbox=True,\n",
      "            with_label=True,\n",
      "            with_text=True),\n",
      "        dict(\n",
      "            type='PackTextDetInputs',\n",
      "            meta_keys=('img_path', 'ori_shape', 'img_shape', 'scale_factor'))\n",
      "    ])\n",
      "default_scope = 'mmocr'\n",
      "env_cfg = dict(\n",
      "    cudnn_benchmark=False,\n",
      "    mp_cfg=dict(mp_start_method='fork', opencv_num_threads=0),\n",
      "    dist_cfg=dict(backend='nccl'))\n",
      "randomness = dict(seed=None)\n",
      "default_hooks = dict(\n",
      "    timer=dict(type='IterTimerHook'),\n",
      "    logger=dict(type='LoggerHook', interval=5),\n",
      "    param_scheduler=dict(type='ParamSchedulerHook'),\n",
      "    checkpoint=dict(type='CheckpointHook', interval=20),\n",
      "    sampler_seed=dict(type='DistSamplerSeedHook'),\n",
      "    sync_buffer=dict(type='SyncBuffersHook'),\n",
      "    visualization=dict(\n",
      "        type='VisualizationHook',\n",
      "        interval=1,\n",
      "        enable=False,\n",
      "        show=False,\n",
      "        draw_gt=False,\n",
      "        draw_pred=False))\n",
      "log_level = 'INFO'\n",
      "log_processor = dict(type='LogProcessor', window_size=10, by_epoch=True)\n",
      "load_from = 'https://download.openmmlab.com/mmocr/textspotting/abcnet/abcnet_resnet50_fpn_500e_icdar2015/abcnet_resnet50_fpn_pretrain-d060636c.pth'\n",
      "resume = False\n",
      "val_evaluator = [dict(type='E2EHmeanIOUMetric'), dict(type='HmeanIOUMetric')]\n",
      "test_evaluator = [dict(type='E2EHmeanIOUMetric'), dict(type='HmeanIOUMetric')]\n",
      "vis_backends = [dict(type='LocalVisBackend')]\n",
      "visualizer = dict(\n",
      "    type='TextSpottingLocalVisualizer',\n",
      "    name=\n",
      "    'time.struct_time(tm_year=2023, tm_mon=5, tm_mday=18, tm_hour=12, tm_min=25, tm_sec=21, tm_wday=3, tm_yday=138, tm_isdst=0)',\n",
      "    vis_backends=[dict(type='LocalVisBackend')])\n",
      "optim_wrapper = dict(\n",
      "    type='OptimWrapper',\n",
      "    optimizer=dict(type='SGD', lr=0.001, momentum=0.9, weight_decay=0.0001),\n",
      "    clip_grad=dict(type='value', clip_value=1))\n",
      "train_cfg = dict(type='EpochBasedTrainLoop', max_epochs=1, val_interval=1)\n",
      "val_cfg = dict(type='ValLoop')\n",
      "test_cfg = dict(type='TestLoop')\n",
      "param_scheduler = [\n",
      "    dict(type='LinearLR', end=1000, start_factor=0.001, by_epoch=False)\n",
      "]\n",
      "train_dataloader = dict(\n",
      "    batch_size=1,\n",
      "    num_workers=1,\n",
      "    persistent_workers=True,\n",
      "    sampler=dict(type='DefaultSampler', shuffle=True),\n",
      "    dataset=dict(\n",
      "        type='OCRDataset',\n",
      "        data_root=\n",
      "        'C:/Users/thffh/Documents/project/project_4/mini_project_4/Temp/temp_Sign',\n",
      "        ann_file=\n",
      "        'C:/Users/thffh/Documents/project/project_4/mini_project_4/Temp/spot_train_annotation.json',\n",
      "        pipeline=[\n",
      "            dict(\n",
      "                type='LoadImageFromFile',\n",
      "                color_type='color_ignore_orientation'),\n",
      "            dict(\n",
      "                type='LoadOCRAnnotations',\n",
      "                with_polygon=True,\n",
      "                with_bbox=True,\n",
      "                with_label=True,\n",
      "                with_text=True),\n",
      "            dict(type='RemoveIgnored'),\n",
      "            dict(type='RandomCrop', min_side_ratio=0.1),\n",
      "            dict(\n",
      "                type='RandomRotate',\n",
      "                max_angle=30,\n",
      "                pad_with_fixed_color=True,\n",
      "                use_canvas=True),\n",
      "            dict(\n",
      "                type='RandomChoiceResize',\n",
      "                scales=[(980, 2900), (1044, 2900), (1108, 2900), (1172, 2900),\n",
      "                        (1236, 2900), (1300, 2900), (1364, 2900), (1428, 2900),\n",
      "                        (1492, 2900)],\n",
      "                keep_ratio=True),\n",
      "            dict(\n",
      "                type='PackTextDetInputs',\n",
      "                meta_keys=('img_path', 'ori_shape', 'img_shape',\n",
      "                           'scale_factor'))\n",
      "        ]))\n",
      "val_dataloader = dict(\n",
      "    batch_size=1,\n",
      "    num_workers=1,\n",
      "    persistent_workers=True,\n",
      "    sampler=dict(type='DefaultSampler', shuffle=False),\n",
      "    dataset=dict(\n",
      "        type='OCRDataset',\n",
      "        data_root=\n",
      "        'C:/Users/thffh/Documents/project/project_4/mini_project_4/Temp/temp_Sign',\n",
      "        ann_file=\n",
      "        'C:/Users/thffh/Documents/project/project_4/mini_project_4/Temp/spot_test_annotation.json',\n",
      "        test_mode=True,\n",
      "        pipeline=[\n",
      "            dict(\n",
      "                type='LoadImageFromFile',\n",
      "                color_type='color_ignore_orientation'),\n",
      "            dict(\n",
      "                type='Resize',\n",
      "                scale=(2000, 4000),\n",
      "                keep_ratio=True,\n",
      "                backend='pillow'),\n",
      "            dict(\n",
      "                type='LoadOCRAnnotations',\n",
      "                with_polygon=True,\n",
      "                with_bbox=True,\n",
      "                with_label=True,\n",
      "                with_text=True),\n",
      "            dict(\n",
      "                type='PackTextDetInputs',\n",
      "                meta_keys=('img_path', 'ori_shape', 'img_shape',\n",
      "                           'scale_factor'))\n",
      "        ]))\n",
      "test_dataloader = dict(\n",
      "    batch_size=1,\n",
      "    num_workers=1,\n",
      "    persistent_workers=True,\n",
      "    sampler=dict(type='DefaultSampler', shuffle=False),\n",
      "    dataset=dict(\n",
      "        type='OCRDataset',\n",
      "        data_root=\n",
      "        'C:/Users/thffh/Documents/project/project_4/mini_project_4/Temp/temp_Sign',\n",
      "        ann_file=\n",
      "        'C:/Users/thffh/Documents/project/project_4/mini_project_4/Temp/spot_test_annotation.json',\n",
      "        test_mode=True,\n",
      "        pipeline=[\n",
      "            dict(\n",
      "                type='LoadImageFromFile',\n",
      "                color_type='color_ignore_orientation'),\n",
      "            dict(\n",
      "                type='Resize',\n",
      "                scale=(2000, 4000),\n",
      "                keep_ratio=True,\n",
      "                backend='pillow'),\n",
      "            dict(\n",
      "                type='LoadOCRAnnotations',\n",
      "                with_polygon=True,\n",
      "                with_bbox=True,\n",
      "                with_label=True,\n",
      "                with_text=True),\n",
      "            dict(\n",
      "                type='PackTextDetInputs',\n",
      "                meta_keys=('img_path', 'ori_shape', 'img_shape',\n",
      "                           'scale_factor'))\n",
      "        ]))\n",
      "custom_imports = dict(imports=['abcnet'], allow_failed_imports=False)\n",
      "find_unused_parameters = True\n",
      "work_dir = 'work_dirs/test1/'\n",
      "\n"
     ]
    },
    {
     "ename": "TypeError",
     "evalue": "class `ABCNet` in abcnet/model/abcnet.py: class `RecRoIHead` in abcnet/model/rec_roi_head.py: class `ABCNetRec` in abcnet/model/abcnet_rec.py: class `ABCNetRecDecoder` in abcnet/model/abcnet_rec_decoder.py: function takes exactly 5 arguments (1 given)",
     "output_type": "error",
     "traceback": [
      "\u001b[1;31m---------------------------------------------------------------------------\u001b[0m",
      "\u001b[1;31mUnicodeDecodeError\u001b[0m                        Traceback (most recent call last)",
      "File \u001b[1;32mD:\\codingTool\\anaconda\\lib\\site-packages\\mmengine\\registry\\build_functions.py:122\u001b[0m, in \u001b[0;36mbuild_from_cfg\u001b[1;34m(cfg, registry, default_args)\u001b[0m\n\u001b[0;32m    121\u001b[0m \u001b[38;5;28;01melse\u001b[39;00m:\n\u001b[1;32m--> 122\u001b[0m     obj \u001b[38;5;241m=\u001b[39m obj_cls(\u001b[38;5;241m*\u001b[39m\u001b[38;5;241m*\u001b[39margs)  \u001b[38;5;66;03m# type: ignore\u001b[39;00m\n\u001b[0;32m    124\u001b[0m \u001b[38;5;28;01mif\u001b[39;00m (inspect\u001b[38;5;241m.\u001b[39misclass(obj_cls) \u001b[38;5;129;01mor\u001b[39;00m inspect\u001b[38;5;241m.\u001b[39misfunction(obj_cls)\n\u001b[0;32m    125\u001b[0m         \u001b[38;5;129;01mor\u001b[39;00m inspect\u001b[38;5;241m.\u001b[39mismethod(obj_cls)):\n",
      "File \u001b[1;32mc:\\users\\thffh\\documents\\project\\project_4\\mmocr\\mmocr\\models\\common\\dictionary\\dictionary.py:66\u001b[0m, in \u001b[0;36mDictionary.__init__\u001b[1;34m(self, dict_file, with_start, with_end, same_start_end, with_padding, with_unknown, start_token, end_token, start_end_token, padding_token, unknown_token)\u001b[0m\n\u001b[0;32m     65\u001b[0m \u001b[38;5;28mself\u001b[39m\u001b[38;5;241m.\u001b[39m_dict \u001b[38;5;241m=\u001b[39m []\n\u001b[1;32m---> 66\u001b[0m \u001b[38;5;28;01mfor\u001b[39;00m line_num, line \u001b[38;5;129;01min\u001b[39;00m \u001b[38;5;28menumerate\u001b[39m(\u001b[43mlist_from_file\u001b[49m\u001b[43m(\u001b[49m\u001b[43mdict_file\u001b[49m\u001b[43m)\u001b[49m):\n\u001b[0;32m     67\u001b[0m     line \u001b[38;5;241m=\u001b[39m line\u001b[38;5;241m.\u001b[39mstrip(\u001b[38;5;124m'\u001b[39m\u001b[38;5;130;01m\\r\u001b[39;00m\u001b[38;5;130;01m\\n\u001b[39;00m\u001b[38;5;124m'\u001b[39m)\n",
      "File \u001b[1;32mc:\\users\\thffh\\documents\\project\\project_4\\mmocr\\mmocr\\utils\\fileio.py:41\u001b[0m, in \u001b[0;36mlist_from_file\u001b[1;34m(filename, encoding)\u001b[0m\n\u001b[0;32m     40\u001b[0m \u001b[38;5;28;01mwith\u001b[39;00m \u001b[38;5;28mopen\u001b[39m(filename, encoding\u001b[38;5;241m=\u001b[39mencoding) \u001b[38;5;28;01mas\u001b[39;00m f:\n\u001b[1;32m---> 41\u001b[0m     \u001b[38;5;28;01mfor\u001b[39;00m line \u001b[38;5;129;01min\u001b[39;00m f:\n\u001b[0;32m     42\u001b[0m         item_list\u001b[38;5;241m.\u001b[39mappend(line\u001b[38;5;241m.\u001b[39mrstrip(\u001b[38;5;124m'\u001b[39m\u001b[38;5;130;01m\\n\u001b[39;00m\u001b[38;5;130;01m\\r\u001b[39;00m\u001b[38;5;124m'\u001b[39m))\n",
      "File \u001b[1;32mD:\\codingTool\\anaconda\\lib\\codecs.py:322\u001b[0m, in \u001b[0;36mBufferedIncrementalDecoder.decode\u001b[1;34m(self, input, final)\u001b[0m\n\u001b[0;32m    321\u001b[0m data \u001b[38;5;241m=\u001b[39m \u001b[38;5;28mself\u001b[39m\u001b[38;5;241m.\u001b[39mbuffer \u001b[38;5;241m+\u001b[39m \u001b[38;5;28minput\u001b[39m\n\u001b[1;32m--> 322\u001b[0m (result, consumed) \u001b[38;5;241m=\u001b[39m \u001b[38;5;28;43mself\u001b[39;49m\u001b[38;5;241;43m.\u001b[39;49m\u001b[43m_buffer_decode\u001b[49m\u001b[43m(\u001b[49m\u001b[43mdata\u001b[49m\u001b[43m,\u001b[49m\u001b[43m \u001b[49m\u001b[38;5;28;43mself\u001b[39;49m\u001b[38;5;241;43m.\u001b[39;49m\u001b[43merrors\u001b[49m\u001b[43m,\u001b[49m\u001b[43m \u001b[49m\u001b[43mfinal\u001b[49m\u001b[43m)\u001b[49m\n\u001b[0;32m    323\u001b[0m \u001b[38;5;66;03m# keep undecoded input until the next call\u001b[39;00m\n",
      "\u001b[1;31mUnicodeDecodeError\u001b[0m: 'utf-8' codec can't decode byte 0xb0 in position 287: invalid start byte",
      "\nDuring handling of the above exception, another exception occurred:\n",
      "\u001b[1;31mTypeError\u001b[0m                                 Traceback (most recent call last)",
      "File \u001b[1;32mD:\\codingTool\\anaconda\\lib\\site-packages\\mmengine\\registry\\build_functions.py:122\u001b[0m, in \u001b[0;36mbuild_from_cfg\u001b[1;34m(cfg, registry, default_args)\u001b[0m\n\u001b[0;32m    121\u001b[0m \u001b[38;5;28;01melse\u001b[39;00m:\n\u001b[1;32m--> 122\u001b[0m     obj \u001b[38;5;241m=\u001b[39m obj_cls(\u001b[38;5;241m*\u001b[39m\u001b[38;5;241m*\u001b[39margs)  \u001b[38;5;66;03m# type: ignore\u001b[39;00m\n\u001b[0;32m    124\u001b[0m \u001b[38;5;28;01mif\u001b[39;00m (inspect\u001b[38;5;241m.\u001b[39misclass(obj_cls) \u001b[38;5;129;01mor\u001b[39;00m inspect\u001b[38;5;241m.\u001b[39misfunction(obj_cls)\n\u001b[0;32m    125\u001b[0m         \u001b[38;5;129;01mor\u001b[39;00m inspect\u001b[38;5;241m.\u001b[39mismethod(obj_cls)):\n",
      "File \u001b[1;32m~\\Documents\\project\\project_4\\mini_project_4\\mmocr_custom\\projects\\ABCNet\\abcnet\\model\\abcnet_rec_decoder.py:44\u001b[0m, in \u001b[0;36mABCNetRecDecoder.__init__\u001b[1;34m(self, in_channels, dropout_prob, teach_prob, dictionary, module_loss, postprocessor, max_seq_len, init_cfg, **kwargs)\u001b[0m\n\u001b[0;32m     34\u001b[0m \u001b[38;5;28;01mdef\u001b[39;00m \u001b[38;5;21m__init__\u001b[39m(\u001b[38;5;28mself\u001b[39m,\n\u001b[0;32m     35\u001b[0m              in_channels: \u001b[38;5;28mint\u001b[39m \u001b[38;5;241m=\u001b[39m \u001b[38;5;241m256\u001b[39m,\n\u001b[0;32m     36\u001b[0m              dropout_prob: \u001b[38;5;28mfloat\u001b[39m \u001b[38;5;241m=\u001b[39m \u001b[38;5;241m0.5\u001b[39m,\n\u001b[1;32m   (...)\u001b[0m\n\u001b[0;32m     42\u001b[0m              init_cfg\u001b[38;5;241m=\u001b[39m\u001b[38;5;28mdict\u001b[39m(\u001b[38;5;28mtype\u001b[39m\u001b[38;5;241m=\u001b[39m\u001b[38;5;124m'\u001b[39m\u001b[38;5;124mXavier\u001b[39m\u001b[38;5;124m'\u001b[39m, layer\u001b[38;5;241m=\u001b[39m\u001b[38;5;124m'\u001b[39m\u001b[38;5;124mConv2d\u001b[39m\u001b[38;5;124m'\u001b[39m),\n\u001b[0;32m     43\u001b[0m              \u001b[38;5;241m*\u001b[39m\u001b[38;5;241m*\u001b[39mkwargs):\n\u001b[1;32m---> 44\u001b[0m     \u001b[38;5;28;43msuper\u001b[39;49m\u001b[43m(\u001b[49m\u001b[43m)\u001b[49m\u001b[38;5;241;43m.\u001b[39;49m\u001b[38;5;21;43m__init__\u001b[39;49m\u001b[43m(\u001b[49m\n\u001b[0;32m     45\u001b[0m \u001b[43m        \u001b[49m\u001b[43minit_cfg\u001b[49m\u001b[38;5;241;43m=\u001b[39;49m\u001b[43minit_cfg\u001b[49m\u001b[43m,\u001b[49m\n\u001b[0;32m     46\u001b[0m \u001b[43m        \u001b[49m\u001b[43mdictionary\u001b[49m\u001b[38;5;241;43m=\u001b[39;49m\u001b[43mdictionary\u001b[49m\u001b[43m,\u001b[49m\n\u001b[0;32m     47\u001b[0m \u001b[43m        \u001b[49m\u001b[43mmodule_loss\u001b[49m\u001b[38;5;241;43m=\u001b[39;49m\u001b[43mmodule_loss\u001b[49m\u001b[43m,\u001b[49m\n\u001b[0;32m     48\u001b[0m \u001b[43m        \u001b[49m\u001b[43mpostprocessor\u001b[49m\u001b[38;5;241;43m=\u001b[39;49m\u001b[43mpostprocessor\u001b[49m\u001b[43m,\u001b[49m\n\u001b[0;32m     49\u001b[0m \u001b[43m        \u001b[49m\u001b[43mmax_seq_len\u001b[49m\u001b[38;5;241;43m=\u001b[39;49m\u001b[43mmax_seq_len\u001b[49m\u001b[43m)\u001b[49m\n\u001b[0;32m     50\u001b[0m     \u001b[38;5;28mself\u001b[39m\u001b[38;5;241m.\u001b[39min_channels \u001b[38;5;241m=\u001b[39m in_channels\n",
      "File \u001b[1;32mc:\\users\\thffh\\documents\\project\\project_4\\mmocr\\mmocr\\models\\textrecog\\decoders\\base.py:36\u001b[0m, in \u001b[0;36mBaseDecoder.__init__\u001b[1;34m(self, dictionary, module_loss, postprocessor, max_seq_len, init_cfg)\u001b[0m\n\u001b[0;32m     35\u001b[0m \u001b[38;5;28;01mif\u001b[39;00m \u001b[38;5;28misinstance\u001b[39m(dictionary, \u001b[38;5;28mdict\u001b[39m):\n\u001b[1;32m---> 36\u001b[0m     \u001b[38;5;28mself\u001b[39m\u001b[38;5;241m.\u001b[39mdictionary \u001b[38;5;241m=\u001b[39m \u001b[43mTASK_UTILS\u001b[49m\u001b[38;5;241;43m.\u001b[39;49m\u001b[43mbuild\u001b[49m\u001b[43m(\u001b[49m\u001b[43mdictionary\u001b[49m\u001b[43m)\u001b[49m\n\u001b[0;32m     37\u001b[0m \u001b[38;5;28;01melif\u001b[39;00m \u001b[38;5;28misinstance\u001b[39m(dictionary, Dictionary):\n",
      "File \u001b[1;32mD:\\codingTool\\anaconda\\lib\\site-packages\\mmengine\\registry\\registry.py:548\u001b[0m, in \u001b[0;36mRegistry.build\u001b[1;34m(self, cfg, *args, **kwargs)\u001b[0m\n\u001b[0;32m    527\u001b[0m \u001b[38;5;250m\u001b[39m\u001b[38;5;124;03m\"\"\"Build an instance.\u001b[39;00m\n\u001b[0;32m    528\u001b[0m \n\u001b[0;32m    529\u001b[0m \u001b[38;5;124;03mBuild an instance by calling :attr:`build_func`.\u001b[39;00m\n\u001b[1;32m   (...)\u001b[0m\n\u001b[0;32m    546\u001b[0m \u001b[38;5;124;03m    >>> model = MODELS.build(cfg)\u001b[39;00m\n\u001b[0;32m    547\u001b[0m \u001b[38;5;124;03m\"\"\"\u001b[39;00m\n\u001b[1;32m--> 548\u001b[0m \u001b[38;5;28;01mreturn\u001b[39;00m \u001b[38;5;28mself\u001b[39m\u001b[38;5;241m.\u001b[39mbuild_func(cfg, \u001b[38;5;241m*\u001b[39margs, \u001b[38;5;241m*\u001b[39m\u001b[38;5;241m*\u001b[39mkwargs, registry\u001b[38;5;241m=\u001b[39m\u001b[38;5;28mself\u001b[39m)\n",
      "File \u001b[1;32mD:\\codingTool\\anaconda\\lib\\site-packages\\mmengine\\registry\\build_functions.py:144\u001b[0m, in \u001b[0;36mbuild_from_cfg\u001b[1;34m(cfg, registry, default_args)\u001b[0m\n\u001b[0;32m    142\u001b[0m cls_location \u001b[38;5;241m=\u001b[39m \u001b[38;5;124m'\u001b[39m\u001b[38;5;124m/\u001b[39m\u001b[38;5;124m'\u001b[39m\u001b[38;5;241m.\u001b[39mjoin(\n\u001b[0;32m    143\u001b[0m     obj_cls\u001b[38;5;241m.\u001b[39m\u001b[38;5;18m__module__\u001b[39m\u001b[38;5;241m.\u001b[39msplit(\u001b[38;5;124m'\u001b[39m\u001b[38;5;124m.\u001b[39m\u001b[38;5;124m'\u001b[39m))  \u001b[38;5;66;03m# type: ignore\u001b[39;00m\n\u001b[1;32m--> 144\u001b[0m \u001b[38;5;28;01mraise\u001b[39;00m \u001b[38;5;28;43mtype\u001b[39;49m\u001b[43m(\u001b[49m\u001b[43me\u001b[49m\u001b[43m)\u001b[49m\u001b[43m(\u001b[49m\n\u001b[0;32m    145\u001b[0m \u001b[43m    \u001b[49m\u001b[38;5;124;43mf\u001b[39;49m\u001b[38;5;124;43m'\u001b[39;49m\u001b[38;5;124;43mclass `\u001b[39;49m\u001b[38;5;132;43;01m{\u001b[39;49;00m\u001b[43mobj_cls\u001b[49m\u001b[38;5;241;43m.\u001b[39;49m\u001b[38;5;18;43m__name__\u001b[39;49m\u001b[38;5;132;43;01m}\u001b[39;49;00m\u001b[38;5;124;43m` in \u001b[39;49m\u001b[38;5;124;43m'\u001b[39;49m\u001b[43m  \u001b[49m\u001b[38;5;66;43;03m# type: ignore\u001b[39;49;00m\n\u001b[0;32m    146\u001b[0m \u001b[43m    \u001b[49m\u001b[38;5;124;43mf\u001b[39;49m\u001b[38;5;124;43m'\u001b[39;49m\u001b[38;5;132;43;01m{\u001b[39;49;00m\u001b[43mcls_location\u001b[49m\u001b[38;5;132;43;01m}\u001b[39;49;00m\u001b[38;5;124;43m.py: \u001b[39;49m\u001b[38;5;132;43;01m{\u001b[39;49;00m\u001b[43me\u001b[49m\u001b[38;5;132;43;01m}\u001b[39;49;00m\u001b[38;5;124;43m'\u001b[39;49m\u001b[43m)\u001b[49m\n",
      "\u001b[1;31mTypeError\u001b[0m: function takes exactly 5 arguments (1 given)",
      "\nDuring handling of the above exception, another exception occurred:\n",
      "\u001b[1;31mTypeError\u001b[0m                                 Traceback (most recent call last)",
      "File \u001b[1;32mD:\\codingTool\\anaconda\\lib\\site-packages\\mmengine\\registry\\build_functions.py:122\u001b[0m, in \u001b[0;36mbuild_from_cfg\u001b[1;34m(cfg, registry, default_args)\u001b[0m\n\u001b[0;32m    121\u001b[0m \u001b[38;5;28;01melse\u001b[39;00m:\n\u001b[1;32m--> 122\u001b[0m     obj \u001b[38;5;241m=\u001b[39m obj_cls(\u001b[38;5;241m*\u001b[39m\u001b[38;5;241m*\u001b[39margs)  \u001b[38;5;66;03m# type: ignore\u001b[39;00m\n\u001b[0;32m    124\u001b[0m \u001b[38;5;28;01mif\u001b[39;00m (inspect\u001b[38;5;241m.\u001b[39misclass(obj_cls) \u001b[38;5;129;01mor\u001b[39;00m inspect\u001b[38;5;241m.\u001b[39misfunction(obj_cls)\n\u001b[0;32m    125\u001b[0m         \u001b[38;5;129;01mor\u001b[39;00m inspect\u001b[38;5;241m.\u001b[39mismethod(obj_cls)):\n",
      "File \u001b[1;32mc:\\users\\thffh\\documents\\project\\project_4\\mmocr\\mmocr\\models\\textrecog\\recognizers\\encoder_decoder_recognizer.py:60\u001b[0m, in \u001b[0;36mEncoderDecoderRecognizer.__init__\u001b[1;34m(self, preprocessor, backbone, encoder, decoder, data_preprocessor, init_cfg)\u001b[0m\n\u001b[0;32m     59\u001b[0m \u001b[38;5;28;01massert\u001b[39;00m decoder \u001b[38;5;129;01mis\u001b[39;00m \u001b[38;5;129;01mnot\u001b[39;00m \u001b[38;5;28;01mNone\u001b[39;00m\n\u001b[1;32m---> 60\u001b[0m \u001b[38;5;28mself\u001b[39m\u001b[38;5;241m.\u001b[39mdecoder \u001b[38;5;241m=\u001b[39m \u001b[43mMODELS\u001b[49m\u001b[38;5;241;43m.\u001b[39;49m\u001b[43mbuild\u001b[49m\u001b[43m(\u001b[49m\u001b[43mdecoder\u001b[49m\u001b[43m)\u001b[49m\n",
      "File \u001b[1;32mD:\\codingTool\\anaconda\\lib\\site-packages\\mmengine\\registry\\registry.py:548\u001b[0m, in \u001b[0;36mRegistry.build\u001b[1;34m(self, cfg, *args, **kwargs)\u001b[0m\n\u001b[0;32m    527\u001b[0m \u001b[38;5;250m\u001b[39m\u001b[38;5;124;03m\"\"\"Build an instance.\u001b[39;00m\n\u001b[0;32m    528\u001b[0m \n\u001b[0;32m    529\u001b[0m \u001b[38;5;124;03mBuild an instance by calling :attr:`build_func`.\u001b[39;00m\n\u001b[1;32m   (...)\u001b[0m\n\u001b[0;32m    546\u001b[0m \u001b[38;5;124;03m    >>> model = MODELS.build(cfg)\u001b[39;00m\n\u001b[0;32m    547\u001b[0m \u001b[38;5;124;03m\"\"\"\u001b[39;00m\n\u001b[1;32m--> 548\u001b[0m \u001b[38;5;28;01mreturn\u001b[39;00m \u001b[38;5;28mself\u001b[39m\u001b[38;5;241m.\u001b[39mbuild_func(cfg, \u001b[38;5;241m*\u001b[39margs, \u001b[38;5;241m*\u001b[39m\u001b[38;5;241m*\u001b[39mkwargs, registry\u001b[38;5;241m=\u001b[39m\u001b[38;5;28mself\u001b[39m)\n",
      "File \u001b[1;32mD:\\codingTool\\anaconda\\lib\\site-packages\\mmengine\\registry\\build_functions.py:250\u001b[0m, in \u001b[0;36mbuild_model_from_cfg\u001b[1;34m(cfg, registry, default_args)\u001b[0m\n\u001b[0;32m    249\u001b[0m \u001b[38;5;28;01melse\u001b[39;00m:\n\u001b[1;32m--> 250\u001b[0m     \u001b[38;5;28;01mreturn\u001b[39;00m \u001b[43mbuild_from_cfg\u001b[49m\u001b[43m(\u001b[49m\u001b[43mcfg\u001b[49m\u001b[43m,\u001b[49m\u001b[43m \u001b[49m\u001b[43mregistry\u001b[49m\u001b[43m,\u001b[49m\u001b[43m \u001b[49m\u001b[43mdefault_args\u001b[49m\u001b[43m)\u001b[49m\n",
      "File \u001b[1;32mD:\\codingTool\\anaconda\\lib\\site-packages\\mmengine\\registry\\build_functions.py:144\u001b[0m, in \u001b[0;36mbuild_from_cfg\u001b[1;34m(cfg, registry, default_args)\u001b[0m\n\u001b[0;32m    142\u001b[0m cls_location \u001b[38;5;241m=\u001b[39m \u001b[38;5;124m'\u001b[39m\u001b[38;5;124m/\u001b[39m\u001b[38;5;124m'\u001b[39m\u001b[38;5;241m.\u001b[39mjoin(\n\u001b[0;32m    143\u001b[0m     obj_cls\u001b[38;5;241m.\u001b[39m\u001b[38;5;18m__module__\u001b[39m\u001b[38;5;241m.\u001b[39msplit(\u001b[38;5;124m'\u001b[39m\u001b[38;5;124m.\u001b[39m\u001b[38;5;124m'\u001b[39m))  \u001b[38;5;66;03m# type: ignore\u001b[39;00m\n\u001b[1;32m--> 144\u001b[0m \u001b[38;5;28;01mraise\u001b[39;00m \u001b[38;5;28mtype\u001b[39m(e)(\n\u001b[0;32m    145\u001b[0m     \u001b[38;5;124mf\u001b[39m\u001b[38;5;124m'\u001b[39m\u001b[38;5;124mclass `\u001b[39m\u001b[38;5;132;01m{\u001b[39;00mobj_cls\u001b[38;5;241m.\u001b[39m\u001b[38;5;18m__name__\u001b[39m\u001b[38;5;132;01m}\u001b[39;00m\u001b[38;5;124m` in \u001b[39m\u001b[38;5;124m'\u001b[39m  \u001b[38;5;66;03m# type: ignore\u001b[39;00m\n\u001b[0;32m    146\u001b[0m     \u001b[38;5;124mf\u001b[39m\u001b[38;5;124m'\u001b[39m\u001b[38;5;132;01m{\u001b[39;00mcls_location\u001b[38;5;132;01m}\u001b[39;00m\u001b[38;5;124m.py: \u001b[39m\u001b[38;5;132;01m{\u001b[39;00me\u001b[38;5;132;01m}\u001b[39;00m\u001b[38;5;124m'\u001b[39m)\n",
      "\u001b[1;31mTypeError\u001b[0m: class `ABCNetRecDecoder` in abcnet/model/abcnet_rec_decoder.py: function takes exactly 5 arguments (1 given)",
      "\nDuring handling of the above exception, another exception occurred:\n",
      "\u001b[1;31mTypeError\u001b[0m                                 Traceback (most recent call last)",
      "File \u001b[1;32mD:\\codingTool\\anaconda\\lib\\site-packages\\mmengine\\registry\\build_functions.py:122\u001b[0m, in \u001b[0;36mbuild_from_cfg\u001b[1;34m(cfg, registry, default_args)\u001b[0m\n\u001b[0;32m    121\u001b[0m \u001b[38;5;28;01melse\u001b[39;00m:\n\u001b[1;32m--> 122\u001b[0m     obj \u001b[38;5;241m=\u001b[39m obj_cls(\u001b[38;5;241m*\u001b[39m\u001b[38;5;241m*\u001b[39margs)  \u001b[38;5;66;03m# type: ignore\u001b[39;00m\n\u001b[0;32m    124\u001b[0m \u001b[38;5;28;01mif\u001b[39;00m (inspect\u001b[38;5;241m.\u001b[39misclass(obj_cls) \u001b[38;5;129;01mor\u001b[39;00m inspect\u001b[38;5;241m.\u001b[39misfunction(obj_cls)\n\u001b[0;32m    125\u001b[0m         \u001b[38;5;129;01mor\u001b[39;00m inspect\u001b[38;5;241m.\u001b[39mismethod(obj_cls)):\n",
      "File \u001b[1;32m~\\Documents\\project\\project_4\\mini_project_4\\mmocr_custom\\projects\\ABCNet\\abcnet\\model\\rec_roi_head.py:29\u001b[0m, in \u001b[0;36mRecRoIHead.__init__\u001b[1;34m(self, neck, sampler, roi_extractor, rec_head, init_cfg)\u001b[0m\n\u001b[0;32m     28\u001b[0m \u001b[38;5;28mself\u001b[39m\u001b[38;5;241m.\u001b[39mroi_extractor \u001b[38;5;241m=\u001b[39m MODELS\u001b[38;5;241m.\u001b[39mbuild(roi_extractor)\n\u001b[1;32m---> 29\u001b[0m \u001b[38;5;28mself\u001b[39m\u001b[38;5;241m.\u001b[39mrec_head \u001b[38;5;241m=\u001b[39m \u001b[43mMODELS\u001b[49m\u001b[38;5;241;43m.\u001b[39;49m\u001b[43mbuild\u001b[49m\u001b[43m(\u001b[49m\u001b[43mrec_head\u001b[49m\u001b[43m)\u001b[49m\n",
      "File \u001b[1;32mD:\\codingTool\\anaconda\\lib\\site-packages\\mmengine\\registry\\registry.py:548\u001b[0m, in \u001b[0;36mRegistry.build\u001b[1;34m(self, cfg, *args, **kwargs)\u001b[0m\n\u001b[0;32m    527\u001b[0m \u001b[38;5;250m\u001b[39m\u001b[38;5;124;03m\"\"\"Build an instance.\u001b[39;00m\n\u001b[0;32m    528\u001b[0m \n\u001b[0;32m    529\u001b[0m \u001b[38;5;124;03mBuild an instance by calling :attr:`build_func`.\u001b[39;00m\n\u001b[1;32m   (...)\u001b[0m\n\u001b[0;32m    546\u001b[0m \u001b[38;5;124;03m    >>> model = MODELS.build(cfg)\u001b[39;00m\n\u001b[0;32m    547\u001b[0m \u001b[38;5;124;03m\"\"\"\u001b[39;00m\n\u001b[1;32m--> 548\u001b[0m \u001b[38;5;28;01mreturn\u001b[39;00m \u001b[38;5;28mself\u001b[39m\u001b[38;5;241m.\u001b[39mbuild_func(cfg, \u001b[38;5;241m*\u001b[39margs, \u001b[38;5;241m*\u001b[39m\u001b[38;5;241m*\u001b[39mkwargs, registry\u001b[38;5;241m=\u001b[39m\u001b[38;5;28mself\u001b[39m)\n",
      "File \u001b[1;32mD:\\codingTool\\anaconda\\lib\\site-packages\\mmengine\\registry\\build_functions.py:250\u001b[0m, in \u001b[0;36mbuild_model_from_cfg\u001b[1;34m(cfg, registry, default_args)\u001b[0m\n\u001b[0;32m    249\u001b[0m \u001b[38;5;28;01melse\u001b[39;00m:\n\u001b[1;32m--> 250\u001b[0m     \u001b[38;5;28;01mreturn\u001b[39;00m \u001b[43mbuild_from_cfg\u001b[49m\u001b[43m(\u001b[49m\u001b[43mcfg\u001b[49m\u001b[43m,\u001b[49m\u001b[43m \u001b[49m\u001b[43mregistry\u001b[49m\u001b[43m,\u001b[49m\u001b[43m \u001b[49m\u001b[43mdefault_args\u001b[49m\u001b[43m)\u001b[49m\n",
      "File \u001b[1;32mD:\\codingTool\\anaconda\\lib\\site-packages\\mmengine\\registry\\build_functions.py:144\u001b[0m, in \u001b[0;36mbuild_from_cfg\u001b[1;34m(cfg, registry, default_args)\u001b[0m\n\u001b[0;32m    142\u001b[0m cls_location \u001b[38;5;241m=\u001b[39m \u001b[38;5;124m'\u001b[39m\u001b[38;5;124m/\u001b[39m\u001b[38;5;124m'\u001b[39m\u001b[38;5;241m.\u001b[39mjoin(\n\u001b[0;32m    143\u001b[0m     obj_cls\u001b[38;5;241m.\u001b[39m\u001b[38;5;18m__module__\u001b[39m\u001b[38;5;241m.\u001b[39msplit(\u001b[38;5;124m'\u001b[39m\u001b[38;5;124m.\u001b[39m\u001b[38;5;124m'\u001b[39m))  \u001b[38;5;66;03m# type: ignore\u001b[39;00m\n\u001b[1;32m--> 144\u001b[0m \u001b[38;5;28;01mraise\u001b[39;00m \u001b[38;5;28mtype\u001b[39m(e)(\n\u001b[0;32m    145\u001b[0m     \u001b[38;5;124mf\u001b[39m\u001b[38;5;124m'\u001b[39m\u001b[38;5;124mclass `\u001b[39m\u001b[38;5;132;01m{\u001b[39;00mobj_cls\u001b[38;5;241m.\u001b[39m\u001b[38;5;18m__name__\u001b[39m\u001b[38;5;132;01m}\u001b[39;00m\u001b[38;5;124m` in \u001b[39m\u001b[38;5;124m'\u001b[39m  \u001b[38;5;66;03m# type: ignore\u001b[39;00m\n\u001b[0;32m    146\u001b[0m     \u001b[38;5;124mf\u001b[39m\u001b[38;5;124m'\u001b[39m\u001b[38;5;132;01m{\u001b[39;00mcls_location\u001b[38;5;132;01m}\u001b[39;00m\u001b[38;5;124m.py: \u001b[39m\u001b[38;5;132;01m{\u001b[39;00me\u001b[38;5;132;01m}\u001b[39;00m\u001b[38;5;124m'\u001b[39m)\n",
      "\u001b[1;31mTypeError\u001b[0m: class `ABCNetRec` in abcnet/model/abcnet_rec.py: class `ABCNetRecDecoder` in abcnet/model/abcnet_rec_decoder.py: function takes exactly 5 arguments (1 given)",
      "\nDuring handling of the above exception, another exception occurred:\n",
      "\u001b[1;31mTypeError\u001b[0m                                 Traceback (most recent call last)",
      "File \u001b[1;32mD:\\codingTool\\anaconda\\lib\\site-packages\\mmengine\\registry\\build_functions.py:122\u001b[0m, in \u001b[0;36mbuild_from_cfg\u001b[1;34m(cfg, registry, default_args)\u001b[0m\n\u001b[0;32m    121\u001b[0m \u001b[38;5;28;01melse\u001b[39;00m:\n\u001b[1;32m--> 122\u001b[0m     obj \u001b[38;5;241m=\u001b[39m obj_cls(\u001b[38;5;241m*\u001b[39m\u001b[38;5;241m*\u001b[39margs)  \u001b[38;5;66;03m# type: ignore\u001b[39;00m\n\u001b[0;32m    124\u001b[0m \u001b[38;5;28;01mif\u001b[39;00m (inspect\u001b[38;5;241m.\u001b[39misclass(obj_cls) \u001b[38;5;129;01mor\u001b[39;00m inspect\u001b[38;5;241m.\u001b[39misfunction(obj_cls)\n\u001b[0;32m    125\u001b[0m         \u001b[38;5;129;01mor\u001b[39;00m inspect\u001b[38;5;241m.\u001b[39mismethod(obj_cls)):\n",
      "File \u001b[1;32m~\\Documents\\project\\project_4\\mini_project_4\\mmocr_custom\\projects\\ABCNet\\abcnet\\model\\two_stage_text_spotting.py:49\u001b[0m, in \u001b[0;36mTwoStageTextSpotter.__init__\u001b[1;34m(self, backbone, neck, det_head, roi_head, postprocessor, data_preprocessor, init_cfg)\u001b[0m\n\u001b[0;32m     48\u001b[0m \u001b[38;5;28;01mif\u001b[39;00m roi_head \u001b[38;5;129;01mis\u001b[39;00m \u001b[38;5;129;01mnot\u001b[39;00m \u001b[38;5;28;01mNone\u001b[39;00m:\n\u001b[1;32m---> 49\u001b[0m     \u001b[38;5;28mself\u001b[39m\u001b[38;5;241m.\u001b[39mroi_head \u001b[38;5;241m=\u001b[39m \u001b[43mMODELS\u001b[49m\u001b[38;5;241;43m.\u001b[39;49m\u001b[43mbuild\u001b[49m\u001b[43m(\u001b[49m\u001b[43mroi_head\u001b[49m\u001b[43m)\u001b[49m\n\u001b[0;32m     51\u001b[0m \u001b[38;5;28;01mif\u001b[39;00m postprocessor \u001b[38;5;129;01mis\u001b[39;00m \u001b[38;5;129;01mnot\u001b[39;00m \u001b[38;5;28;01mNone\u001b[39;00m:\n",
      "File \u001b[1;32mD:\\codingTool\\anaconda\\lib\\site-packages\\mmengine\\registry\\registry.py:548\u001b[0m, in \u001b[0;36mRegistry.build\u001b[1;34m(self, cfg, *args, **kwargs)\u001b[0m\n\u001b[0;32m    527\u001b[0m \u001b[38;5;250m\u001b[39m\u001b[38;5;124;03m\"\"\"Build an instance.\u001b[39;00m\n\u001b[0;32m    528\u001b[0m \n\u001b[0;32m    529\u001b[0m \u001b[38;5;124;03mBuild an instance by calling :attr:`build_func`.\u001b[39;00m\n\u001b[1;32m   (...)\u001b[0m\n\u001b[0;32m    546\u001b[0m \u001b[38;5;124;03m    >>> model = MODELS.build(cfg)\u001b[39;00m\n\u001b[0;32m    547\u001b[0m \u001b[38;5;124;03m\"\"\"\u001b[39;00m\n\u001b[1;32m--> 548\u001b[0m \u001b[38;5;28;01mreturn\u001b[39;00m \u001b[38;5;28mself\u001b[39m\u001b[38;5;241m.\u001b[39mbuild_func(cfg, \u001b[38;5;241m*\u001b[39margs, \u001b[38;5;241m*\u001b[39m\u001b[38;5;241m*\u001b[39mkwargs, registry\u001b[38;5;241m=\u001b[39m\u001b[38;5;28mself\u001b[39m)\n",
      "File \u001b[1;32mD:\\codingTool\\anaconda\\lib\\site-packages\\mmengine\\registry\\build_functions.py:250\u001b[0m, in \u001b[0;36mbuild_model_from_cfg\u001b[1;34m(cfg, registry, default_args)\u001b[0m\n\u001b[0;32m    249\u001b[0m \u001b[38;5;28;01melse\u001b[39;00m:\n\u001b[1;32m--> 250\u001b[0m     \u001b[38;5;28;01mreturn\u001b[39;00m \u001b[43mbuild_from_cfg\u001b[49m\u001b[43m(\u001b[49m\u001b[43mcfg\u001b[49m\u001b[43m,\u001b[49m\u001b[43m \u001b[49m\u001b[43mregistry\u001b[49m\u001b[43m,\u001b[49m\u001b[43m \u001b[49m\u001b[43mdefault_args\u001b[49m\u001b[43m)\u001b[49m\n",
      "File \u001b[1;32mD:\\codingTool\\anaconda\\lib\\site-packages\\mmengine\\registry\\build_functions.py:144\u001b[0m, in \u001b[0;36mbuild_from_cfg\u001b[1;34m(cfg, registry, default_args)\u001b[0m\n\u001b[0;32m    142\u001b[0m cls_location \u001b[38;5;241m=\u001b[39m \u001b[38;5;124m'\u001b[39m\u001b[38;5;124m/\u001b[39m\u001b[38;5;124m'\u001b[39m\u001b[38;5;241m.\u001b[39mjoin(\n\u001b[0;32m    143\u001b[0m     obj_cls\u001b[38;5;241m.\u001b[39m\u001b[38;5;18m__module__\u001b[39m\u001b[38;5;241m.\u001b[39msplit(\u001b[38;5;124m'\u001b[39m\u001b[38;5;124m.\u001b[39m\u001b[38;5;124m'\u001b[39m))  \u001b[38;5;66;03m# type: ignore\u001b[39;00m\n\u001b[1;32m--> 144\u001b[0m \u001b[38;5;28;01mraise\u001b[39;00m \u001b[38;5;28mtype\u001b[39m(e)(\n\u001b[0;32m    145\u001b[0m     \u001b[38;5;124mf\u001b[39m\u001b[38;5;124m'\u001b[39m\u001b[38;5;124mclass `\u001b[39m\u001b[38;5;132;01m{\u001b[39;00mobj_cls\u001b[38;5;241m.\u001b[39m\u001b[38;5;18m__name__\u001b[39m\u001b[38;5;132;01m}\u001b[39;00m\u001b[38;5;124m` in \u001b[39m\u001b[38;5;124m'\u001b[39m  \u001b[38;5;66;03m# type: ignore\u001b[39;00m\n\u001b[0;32m    146\u001b[0m     \u001b[38;5;124mf\u001b[39m\u001b[38;5;124m'\u001b[39m\u001b[38;5;132;01m{\u001b[39;00mcls_location\u001b[38;5;132;01m}\u001b[39;00m\u001b[38;5;124m.py: \u001b[39m\u001b[38;5;132;01m{\u001b[39;00me\u001b[38;5;132;01m}\u001b[39;00m\u001b[38;5;124m'\u001b[39m)\n",
      "\u001b[1;31mTypeError\u001b[0m: class `RecRoIHead` in abcnet/model/rec_roi_head.py: class `ABCNetRec` in abcnet/model/abcnet_rec.py: class `ABCNetRecDecoder` in abcnet/model/abcnet_rec_decoder.py: function takes exactly 5 arguments (1 given)",
      "\nDuring handling of the above exception, another exception occurred:\n",
      "\u001b[1;31mTypeError\u001b[0m                                 Traceback (most recent call last)",
      "Cell \u001b[1;32mIn[22], line 5\u001b[0m\n\u001b[0;32m      2\u001b[0m \u001b[38;5;28;01mfrom\u001b[39;00m \u001b[38;5;21;01mmmengine\u001b[39;00m\u001b[38;5;21;01m.\u001b[39;00m\u001b[38;5;21;01mrunner\u001b[39;00m \u001b[38;5;28;01mimport\u001b[39;00m Runner\n\u001b[0;32m      3\u001b[0m cfg\u001b[38;5;241m.\u001b[39mvisualizer\u001b[38;5;241m.\u001b[39mname \u001b[38;5;241m=\u001b[39m \u001b[38;5;124mf\u001b[39m\u001b[38;5;124m'\u001b[39m\u001b[38;5;132;01m{\u001b[39;00mtime\u001b[38;5;241m.\u001b[39mlocaltime()\u001b[38;5;132;01m}\u001b[39;00m\u001b[38;5;124m'\u001b[39m\n\u001b[1;32m----> 5\u001b[0m runner \u001b[38;5;241m=\u001b[39m \u001b[43mRunner\u001b[49m\u001b[38;5;241;43m.\u001b[39;49m\u001b[43mfrom_cfg\u001b[49m\u001b[43m(\u001b[49m\u001b[43mcfg\u001b[49m\u001b[43m)\u001b[49m\n",
      "File \u001b[1;32mD:\\codingTool\\anaconda\\lib\\site-packages\\mmengine\\runner\\runner.py:439\u001b[0m, in \u001b[0;36mRunner.from_cfg\u001b[1;34m(cls, cfg)\u001b[0m\n\u001b[0;32m    429\u001b[0m \u001b[38;5;250m\u001b[39m\u001b[38;5;124;03m\"\"\"Build a runner from config.\u001b[39;00m\n\u001b[0;32m    430\u001b[0m \n\u001b[0;32m    431\u001b[0m \u001b[38;5;124;03mArgs:\u001b[39;00m\n\u001b[1;32m   (...)\u001b[0m\n\u001b[0;32m    436\u001b[0m \u001b[38;5;124;03m    Runner: A runner build from ``cfg``.\u001b[39;00m\n\u001b[0;32m    437\u001b[0m \u001b[38;5;124;03m\"\"\"\u001b[39;00m\n\u001b[0;32m    438\u001b[0m cfg \u001b[38;5;241m=\u001b[39m copy\u001b[38;5;241m.\u001b[39mdeepcopy(cfg)\n\u001b[1;32m--> 439\u001b[0m runner \u001b[38;5;241m=\u001b[39m \u001b[38;5;28;43mcls\u001b[39;49m\u001b[43m(\u001b[49m\n\u001b[0;32m    440\u001b[0m \u001b[43m    \u001b[49m\u001b[43mmodel\u001b[49m\u001b[38;5;241;43m=\u001b[39;49m\u001b[43mcfg\u001b[49m\u001b[43m[\u001b[49m\u001b[38;5;124;43m'\u001b[39;49m\u001b[38;5;124;43mmodel\u001b[39;49m\u001b[38;5;124;43m'\u001b[39;49m\u001b[43m]\u001b[49m\u001b[43m,\u001b[49m\n\u001b[0;32m    441\u001b[0m \u001b[43m    \u001b[49m\u001b[43mwork_dir\u001b[49m\u001b[38;5;241;43m=\u001b[39;49m\u001b[43mcfg\u001b[49m\u001b[43m[\u001b[49m\u001b[38;5;124;43m'\u001b[39;49m\u001b[38;5;124;43mwork_dir\u001b[39;49m\u001b[38;5;124;43m'\u001b[39;49m\u001b[43m]\u001b[49m\u001b[43m,\u001b[49m\n\u001b[0;32m    442\u001b[0m \u001b[43m    \u001b[49m\u001b[43mtrain_dataloader\u001b[49m\u001b[38;5;241;43m=\u001b[39;49m\u001b[43mcfg\u001b[49m\u001b[38;5;241;43m.\u001b[39;49m\u001b[43mget\u001b[49m\u001b[43m(\u001b[49m\u001b[38;5;124;43m'\u001b[39;49m\u001b[38;5;124;43mtrain_dataloader\u001b[39;49m\u001b[38;5;124;43m'\u001b[39;49m\u001b[43m)\u001b[49m\u001b[43m,\u001b[49m\n\u001b[0;32m    443\u001b[0m \u001b[43m    \u001b[49m\u001b[43mval_dataloader\u001b[49m\u001b[38;5;241;43m=\u001b[39;49m\u001b[43mcfg\u001b[49m\u001b[38;5;241;43m.\u001b[39;49m\u001b[43mget\u001b[49m\u001b[43m(\u001b[49m\u001b[38;5;124;43m'\u001b[39;49m\u001b[38;5;124;43mval_dataloader\u001b[39;49m\u001b[38;5;124;43m'\u001b[39;49m\u001b[43m)\u001b[49m\u001b[43m,\u001b[49m\n\u001b[0;32m    444\u001b[0m \u001b[43m    \u001b[49m\u001b[43mtest_dataloader\u001b[49m\u001b[38;5;241;43m=\u001b[39;49m\u001b[43mcfg\u001b[49m\u001b[38;5;241;43m.\u001b[39;49m\u001b[43mget\u001b[49m\u001b[43m(\u001b[49m\u001b[38;5;124;43m'\u001b[39;49m\u001b[38;5;124;43mtest_dataloader\u001b[39;49m\u001b[38;5;124;43m'\u001b[39;49m\u001b[43m)\u001b[49m\u001b[43m,\u001b[49m\n\u001b[0;32m    445\u001b[0m \u001b[43m    \u001b[49m\u001b[43mtrain_cfg\u001b[49m\u001b[38;5;241;43m=\u001b[39;49m\u001b[43mcfg\u001b[49m\u001b[38;5;241;43m.\u001b[39;49m\u001b[43mget\u001b[49m\u001b[43m(\u001b[49m\u001b[38;5;124;43m'\u001b[39;49m\u001b[38;5;124;43mtrain_cfg\u001b[39;49m\u001b[38;5;124;43m'\u001b[39;49m\u001b[43m)\u001b[49m\u001b[43m,\u001b[49m\n\u001b[0;32m    446\u001b[0m \u001b[43m    \u001b[49m\u001b[43mval_cfg\u001b[49m\u001b[38;5;241;43m=\u001b[39;49m\u001b[43mcfg\u001b[49m\u001b[38;5;241;43m.\u001b[39;49m\u001b[43mget\u001b[49m\u001b[43m(\u001b[49m\u001b[38;5;124;43m'\u001b[39;49m\u001b[38;5;124;43mval_cfg\u001b[39;49m\u001b[38;5;124;43m'\u001b[39;49m\u001b[43m)\u001b[49m\u001b[43m,\u001b[49m\n\u001b[0;32m    447\u001b[0m \u001b[43m    \u001b[49m\u001b[43mtest_cfg\u001b[49m\u001b[38;5;241;43m=\u001b[39;49m\u001b[43mcfg\u001b[49m\u001b[38;5;241;43m.\u001b[39;49m\u001b[43mget\u001b[49m\u001b[43m(\u001b[49m\u001b[38;5;124;43m'\u001b[39;49m\u001b[38;5;124;43mtest_cfg\u001b[39;49m\u001b[38;5;124;43m'\u001b[39;49m\u001b[43m)\u001b[49m\u001b[43m,\u001b[49m\n\u001b[0;32m    448\u001b[0m \u001b[43m    \u001b[49m\u001b[43mauto_scale_lr\u001b[49m\u001b[38;5;241;43m=\u001b[39;49m\u001b[43mcfg\u001b[49m\u001b[38;5;241;43m.\u001b[39;49m\u001b[43mget\u001b[49m\u001b[43m(\u001b[49m\u001b[38;5;124;43m'\u001b[39;49m\u001b[38;5;124;43mauto_scale_lr\u001b[39;49m\u001b[38;5;124;43m'\u001b[39;49m\u001b[43m)\u001b[49m\u001b[43m,\u001b[49m\n\u001b[0;32m    449\u001b[0m \u001b[43m    \u001b[49m\u001b[43moptim_wrapper\u001b[49m\u001b[38;5;241;43m=\u001b[39;49m\u001b[43mcfg\u001b[49m\u001b[38;5;241;43m.\u001b[39;49m\u001b[43mget\u001b[49m\u001b[43m(\u001b[49m\u001b[38;5;124;43m'\u001b[39;49m\u001b[38;5;124;43moptim_wrapper\u001b[39;49m\u001b[38;5;124;43m'\u001b[39;49m\u001b[43m)\u001b[49m\u001b[43m,\u001b[49m\n\u001b[0;32m    450\u001b[0m \u001b[43m    \u001b[49m\u001b[43mparam_scheduler\u001b[49m\u001b[38;5;241;43m=\u001b[39;49m\u001b[43mcfg\u001b[49m\u001b[38;5;241;43m.\u001b[39;49m\u001b[43mget\u001b[49m\u001b[43m(\u001b[49m\u001b[38;5;124;43m'\u001b[39;49m\u001b[38;5;124;43mparam_scheduler\u001b[39;49m\u001b[38;5;124;43m'\u001b[39;49m\u001b[43m)\u001b[49m\u001b[43m,\u001b[49m\n\u001b[0;32m    451\u001b[0m \u001b[43m    \u001b[49m\u001b[43mval_evaluator\u001b[49m\u001b[38;5;241;43m=\u001b[39;49m\u001b[43mcfg\u001b[49m\u001b[38;5;241;43m.\u001b[39;49m\u001b[43mget\u001b[49m\u001b[43m(\u001b[49m\u001b[38;5;124;43m'\u001b[39;49m\u001b[38;5;124;43mval_evaluator\u001b[39;49m\u001b[38;5;124;43m'\u001b[39;49m\u001b[43m)\u001b[49m\u001b[43m,\u001b[49m\n\u001b[0;32m    452\u001b[0m \u001b[43m    \u001b[49m\u001b[43mtest_evaluator\u001b[49m\u001b[38;5;241;43m=\u001b[39;49m\u001b[43mcfg\u001b[49m\u001b[38;5;241;43m.\u001b[39;49m\u001b[43mget\u001b[49m\u001b[43m(\u001b[49m\u001b[38;5;124;43m'\u001b[39;49m\u001b[38;5;124;43mtest_evaluator\u001b[39;49m\u001b[38;5;124;43m'\u001b[39;49m\u001b[43m)\u001b[49m\u001b[43m,\u001b[49m\n\u001b[0;32m    453\u001b[0m \u001b[43m    \u001b[49m\u001b[43mdefault_hooks\u001b[49m\u001b[38;5;241;43m=\u001b[39;49m\u001b[43mcfg\u001b[49m\u001b[38;5;241;43m.\u001b[39;49m\u001b[43mget\u001b[49m\u001b[43m(\u001b[49m\u001b[38;5;124;43m'\u001b[39;49m\u001b[38;5;124;43mdefault_hooks\u001b[39;49m\u001b[38;5;124;43m'\u001b[39;49m\u001b[43m)\u001b[49m\u001b[43m,\u001b[49m\n\u001b[0;32m    454\u001b[0m \u001b[43m    \u001b[49m\u001b[43mcustom_hooks\u001b[49m\u001b[38;5;241;43m=\u001b[39;49m\u001b[43mcfg\u001b[49m\u001b[38;5;241;43m.\u001b[39;49m\u001b[43mget\u001b[49m\u001b[43m(\u001b[49m\u001b[38;5;124;43m'\u001b[39;49m\u001b[38;5;124;43mcustom_hooks\u001b[39;49m\u001b[38;5;124;43m'\u001b[39;49m\u001b[43m)\u001b[49m\u001b[43m,\u001b[49m\n\u001b[0;32m    455\u001b[0m \u001b[43m    \u001b[49m\u001b[43mdata_preprocessor\u001b[49m\u001b[38;5;241;43m=\u001b[39;49m\u001b[43mcfg\u001b[49m\u001b[38;5;241;43m.\u001b[39;49m\u001b[43mget\u001b[49m\u001b[43m(\u001b[49m\u001b[38;5;124;43m'\u001b[39;49m\u001b[38;5;124;43mdata_preprocessor\u001b[39;49m\u001b[38;5;124;43m'\u001b[39;49m\u001b[43m)\u001b[49m\u001b[43m,\u001b[49m\n\u001b[0;32m    456\u001b[0m \u001b[43m    \u001b[49m\u001b[43mload_from\u001b[49m\u001b[38;5;241;43m=\u001b[39;49m\u001b[43mcfg\u001b[49m\u001b[38;5;241;43m.\u001b[39;49m\u001b[43mget\u001b[49m\u001b[43m(\u001b[49m\u001b[38;5;124;43m'\u001b[39;49m\u001b[38;5;124;43mload_from\u001b[39;49m\u001b[38;5;124;43m'\u001b[39;49m\u001b[43m)\u001b[49m\u001b[43m,\u001b[49m\n\u001b[0;32m    457\u001b[0m \u001b[43m    \u001b[49m\u001b[43mresume\u001b[49m\u001b[38;5;241;43m=\u001b[39;49m\u001b[43mcfg\u001b[49m\u001b[38;5;241;43m.\u001b[39;49m\u001b[43mget\u001b[49m\u001b[43m(\u001b[49m\u001b[38;5;124;43m'\u001b[39;49m\u001b[38;5;124;43mresume\u001b[39;49m\u001b[38;5;124;43m'\u001b[39;49m\u001b[43m,\u001b[49m\u001b[43m \u001b[49m\u001b[38;5;28;43;01mFalse\u001b[39;49;00m\u001b[43m)\u001b[49m\u001b[43m,\u001b[49m\n\u001b[0;32m    458\u001b[0m \u001b[43m    \u001b[49m\u001b[43mlauncher\u001b[49m\u001b[38;5;241;43m=\u001b[39;49m\u001b[43mcfg\u001b[49m\u001b[38;5;241;43m.\u001b[39;49m\u001b[43mget\u001b[49m\u001b[43m(\u001b[49m\u001b[38;5;124;43m'\u001b[39;49m\u001b[38;5;124;43mlauncher\u001b[39;49m\u001b[38;5;124;43m'\u001b[39;49m\u001b[43m,\u001b[49m\u001b[43m \u001b[49m\u001b[38;5;124;43m'\u001b[39;49m\u001b[38;5;124;43mnone\u001b[39;49m\u001b[38;5;124;43m'\u001b[39;49m\u001b[43m)\u001b[49m\u001b[43m,\u001b[49m\n\u001b[0;32m    459\u001b[0m \u001b[43m    \u001b[49m\u001b[43menv_cfg\u001b[49m\u001b[38;5;241;43m=\u001b[39;49m\u001b[43mcfg\u001b[49m\u001b[38;5;241;43m.\u001b[39;49m\u001b[43mget\u001b[49m\u001b[43m(\u001b[49m\u001b[38;5;124;43m'\u001b[39;49m\u001b[38;5;124;43menv_cfg\u001b[39;49m\u001b[38;5;124;43m'\u001b[39;49m\u001b[43m)\u001b[49m\u001b[43m,\u001b[49m\u001b[43m  \u001b[49m\u001b[38;5;66;43;03m# type: ignore\u001b[39;49;00m\n\u001b[0;32m    460\u001b[0m \u001b[43m    \u001b[49m\u001b[43mlog_processor\u001b[49m\u001b[38;5;241;43m=\u001b[39;49m\u001b[43mcfg\u001b[49m\u001b[38;5;241;43m.\u001b[39;49m\u001b[43mget\u001b[49m\u001b[43m(\u001b[49m\u001b[38;5;124;43m'\u001b[39;49m\u001b[38;5;124;43mlog_processor\u001b[39;49m\u001b[38;5;124;43m'\u001b[39;49m\u001b[43m)\u001b[49m\u001b[43m,\u001b[49m\n\u001b[0;32m    461\u001b[0m \u001b[43m    \u001b[49m\u001b[43mlog_level\u001b[49m\u001b[38;5;241;43m=\u001b[39;49m\u001b[43mcfg\u001b[49m\u001b[38;5;241;43m.\u001b[39;49m\u001b[43mget\u001b[49m\u001b[43m(\u001b[49m\u001b[38;5;124;43m'\u001b[39;49m\u001b[38;5;124;43mlog_level\u001b[39;49m\u001b[38;5;124;43m'\u001b[39;49m\u001b[43m,\u001b[49m\u001b[43m \u001b[49m\u001b[38;5;124;43m'\u001b[39;49m\u001b[38;5;124;43mINFO\u001b[39;49m\u001b[38;5;124;43m'\u001b[39;49m\u001b[43m)\u001b[49m\u001b[43m,\u001b[49m\n\u001b[0;32m    462\u001b[0m \u001b[43m    \u001b[49m\u001b[43mvisualizer\u001b[49m\u001b[38;5;241;43m=\u001b[39;49m\u001b[43mcfg\u001b[49m\u001b[38;5;241;43m.\u001b[39;49m\u001b[43mget\u001b[49m\u001b[43m(\u001b[49m\u001b[38;5;124;43m'\u001b[39;49m\u001b[38;5;124;43mvisualizer\u001b[39;49m\u001b[38;5;124;43m'\u001b[39;49m\u001b[43m)\u001b[49m\u001b[43m,\u001b[49m\n\u001b[0;32m    463\u001b[0m \u001b[43m    \u001b[49m\u001b[43mdefault_scope\u001b[49m\u001b[38;5;241;43m=\u001b[39;49m\u001b[43mcfg\u001b[49m\u001b[38;5;241;43m.\u001b[39;49m\u001b[43mget\u001b[49m\u001b[43m(\u001b[49m\u001b[38;5;124;43m'\u001b[39;49m\u001b[38;5;124;43mdefault_scope\u001b[39;49m\u001b[38;5;124;43m'\u001b[39;49m\u001b[43m,\u001b[49m\u001b[43m \u001b[49m\u001b[38;5;124;43m'\u001b[39;49m\u001b[38;5;124;43mmmengine\u001b[39;49m\u001b[38;5;124;43m'\u001b[39;49m\u001b[43m)\u001b[49m\u001b[43m,\u001b[49m\n\u001b[0;32m    464\u001b[0m \u001b[43m    \u001b[49m\u001b[43mrandomness\u001b[49m\u001b[38;5;241;43m=\u001b[39;49m\u001b[43mcfg\u001b[49m\u001b[38;5;241;43m.\u001b[39;49m\u001b[43mget\u001b[49m\u001b[43m(\u001b[49m\u001b[38;5;124;43m'\u001b[39;49m\u001b[38;5;124;43mrandomness\u001b[39;49m\u001b[38;5;124;43m'\u001b[39;49m\u001b[43m,\u001b[49m\u001b[43m \u001b[49m\u001b[38;5;28;43mdict\u001b[39;49m\u001b[43m(\u001b[49m\u001b[43mseed\u001b[49m\u001b[38;5;241;43m=\u001b[39;49m\u001b[38;5;28;43;01mNone\u001b[39;49;00m\u001b[43m)\u001b[49m\u001b[43m)\u001b[49m\u001b[43m,\u001b[49m\n\u001b[0;32m    465\u001b[0m \u001b[43m    \u001b[49m\u001b[43mexperiment_name\u001b[49m\u001b[38;5;241;43m=\u001b[39;49m\u001b[43mcfg\u001b[49m\u001b[38;5;241;43m.\u001b[39;49m\u001b[43mget\u001b[49m\u001b[43m(\u001b[49m\u001b[38;5;124;43m'\u001b[39;49m\u001b[38;5;124;43mexperiment_name\u001b[39;49m\u001b[38;5;124;43m'\u001b[39;49m\u001b[43m)\u001b[49m\u001b[43m,\u001b[49m\n\u001b[0;32m    466\u001b[0m \u001b[43m    \u001b[49m\u001b[43mcfg\u001b[49m\u001b[38;5;241;43m=\u001b[39;49m\u001b[43mcfg\u001b[49m\u001b[43m,\u001b[49m\n\u001b[0;32m    467\u001b[0m \u001b[43m\u001b[49m\u001b[43m)\u001b[49m\n\u001b[0;32m    469\u001b[0m \u001b[38;5;28;01mreturn\u001b[39;00m runner\n",
      "File \u001b[1;32mD:\\codingTool\\anaconda\\lib\\site-packages\\mmengine\\runner\\runner.py:406\u001b[0m, in \u001b[0;36mRunner.__init__\u001b[1;34m(self, model, work_dir, train_dataloader, val_dataloader, test_dataloader, train_cfg, val_cfg, test_cfg, auto_scale_lr, optim_wrapper, param_scheduler, val_evaluator, test_evaluator, default_hooks, custom_hooks, data_preprocessor, load_from, resume, launcher, env_cfg, log_processor, log_level, visualizer, default_scope, randomness, experiment_name, cfg)\u001b[0m\n\u001b[0;32m    403\u001b[0m \u001b[38;5;28;01mif\u001b[39;00m \u001b[38;5;28misinstance\u001b[39m(model, \u001b[38;5;28mdict\u001b[39m) \u001b[38;5;129;01mand\u001b[39;00m data_preprocessor \u001b[38;5;129;01mis\u001b[39;00m \u001b[38;5;129;01mnot\u001b[39;00m \u001b[38;5;28;01mNone\u001b[39;00m:\n\u001b[0;32m    404\u001b[0m     \u001b[38;5;66;03m# Merge the data_preprocessor to model config.\u001b[39;00m\n\u001b[0;32m    405\u001b[0m     model\u001b[38;5;241m.\u001b[39msetdefault(\u001b[38;5;124m'\u001b[39m\u001b[38;5;124mdata_preprocessor\u001b[39m\u001b[38;5;124m'\u001b[39m, data_preprocessor)\n\u001b[1;32m--> 406\u001b[0m \u001b[38;5;28mself\u001b[39m\u001b[38;5;241m.\u001b[39mmodel \u001b[38;5;241m=\u001b[39m \u001b[38;5;28;43mself\u001b[39;49m\u001b[38;5;241;43m.\u001b[39;49m\u001b[43mbuild_model\u001b[49m\u001b[43m(\u001b[49m\u001b[43mmodel\u001b[49m\u001b[43m)\u001b[49m\n\u001b[0;32m    407\u001b[0m \u001b[38;5;66;03m# wrap model\u001b[39;00m\n\u001b[0;32m    408\u001b[0m \u001b[38;5;28mself\u001b[39m\u001b[38;5;241m.\u001b[39mmodel \u001b[38;5;241m=\u001b[39m \u001b[38;5;28mself\u001b[39m\u001b[38;5;241m.\u001b[39mwrap_model(\n\u001b[0;32m    409\u001b[0m     \u001b[38;5;28mself\u001b[39m\u001b[38;5;241m.\u001b[39mcfg\u001b[38;5;241m.\u001b[39mget(\u001b[38;5;124m'\u001b[39m\u001b[38;5;124mmodel_wrapper_cfg\u001b[39m\u001b[38;5;124m'\u001b[39m), \u001b[38;5;28mself\u001b[39m\u001b[38;5;241m.\u001b[39mmodel)\n",
      "File \u001b[1;32mD:\\codingTool\\anaconda\\lib\\site-packages\\mmengine\\runner\\runner.py:813\u001b[0m, in \u001b[0;36mRunner.build_model\u001b[1;34m(self, model)\u001b[0m\n\u001b[0;32m    811\u001b[0m     \u001b[38;5;28;01mreturn\u001b[39;00m model\n\u001b[0;32m    812\u001b[0m \u001b[38;5;28;01melif\u001b[39;00m \u001b[38;5;28misinstance\u001b[39m(model, \u001b[38;5;28mdict\u001b[39m):\n\u001b[1;32m--> 813\u001b[0m     model \u001b[38;5;241m=\u001b[39m \u001b[43mMODELS\u001b[49m\u001b[38;5;241;43m.\u001b[39;49m\u001b[43mbuild\u001b[49m\u001b[43m(\u001b[49m\u001b[43mmodel\u001b[49m\u001b[43m)\u001b[49m\n\u001b[0;32m    814\u001b[0m     \u001b[38;5;28;01mreturn\u001b[39;00m model  \u001b[38;5;66;03m# type: ignore\u001b[39;00m\n\u001b[0;32m    815\u001b[0m \u001b[38;5;28;01melse\u001b[39;00m:\n",
      "File \u001b[1;32mD:\\codingTool\\anaconda\\lib\\site-packages\\mmengine\\registry\\registry.py:548\u001b[0m, in \u001b[0;36mRegistry.build\u001b[1;34m(self, cfg, *args, **kwargs)\u001b[0m\n\u001b[0;32m    526\u001b[0m \u001b[38;5;28;01mdef\u001b[39;00m \u001b[38;5;21mbuild\u001b[39m(\u001b[38;5;28mself\u001b[39m, cfg: \u001b[38;5;28mdict\u001b[39m, \u001b[38;5;241m*\u001b[39margs, \u001b[38;5;241m*\u001b[39m\u001b[38;5;241m*\u001b[39mkwargs) \u001b[38;5;241m-\u001b[39m\u001b[38;5;241m>\u001b[39m Any:\n\u001b[0;32m    527\u001b[0m \u001b[38;5;250m    \u001b[39m\u001b[38;5;124;03m\"\"\"Build an instance.\u001b[39;00m\n\u001b[0;32m    528\u001b[0m \n\u001b[0;32m    529\u001b[0m \u001b[38;5;124;03m    Build an instance by calling :attr:`build_func`.\u001b[39;00m\n\u001b[1;32m   (...)\u001b[0m\n\u001b[0;32m    546\u001b[0m \u001b[38;5;124;03m        >>> model = MODELS.build(cfg)\u001b[39;00m\n\u001b[0;32m    547\u001b[0m \u001b[38;5;124;03m    \"\"\"\u001b[39;00m\n\u001b[1;32m--> 548\u001b[0m     \u001b[38;5;28;01mreturn\u001b[39;00m \u001b[38;5;28mself\u001b[39m\u001b[38;5;241m.\u001b[39mbuild_func(cfg, \u001b[38;5;241m*\u001b[39margs, \u001b[38;5;241m*\u001b[39m\u001b[38;5;241m*\u001b[39mkwargs, registry\u001b[38;5;241m=\u001b[39m\u001b[38;5;28mself\u001b[39m)\n",
      "File \u001b[1;32mD:\\codingTool\\anaconda\\lib\\site-packages\\mmengine\\registry\\build_functions.py:250\u001b[0m, in \u001b[0;36mbuild_model_from_cfg\u001b[1;34m(cfg, registry, default_args)\u001b[0m\n\u001b[0;32m    248\u001b[0m     \u001b[38;5;28;01mreturn\u001b[39;00m Sequential(\u001b[38;5;241m*\u001b[39mmodules)\n\u001b[0;32m    249\u001b[0m \u001b[38;5;28;01melse\u001b[39;00m:\n\u001b[1;32m--> 250\u001b[0m     \u001b[38;5;28;01mreturn\u001b[39;00m \u001b[43mbuild_from_cfg\u001b[49m\u001b[43m(\u001b[49m\u001b[43mcfg\u001b[49m\u001b[43m,\u001b[49m\u001b[43m \u001b[49m\u001b[43mregistry\u001b[49m\u001b[43m,\u001b[49m\u001b[43m \u001b[49m\u001b[43mdefault_args\u001b[49m\u001b[43m)\u001b[49m\n",
      "File \u001b[1;32mD:\\codingTool\\anaconda\\lib\\site-packages\\mmengine\\registry\\build_functions.py:144\u001b[0m, in \u001b[0;36mbuild_from_cfg\u001b[1;34m(cfg, registry, default_args)\u001b[0m\n\u001b[0;32m    140\u001b[0m \u001b[38;5;28;01mexcept\u001b[39;00m \u001b[38;5;167;01mException\u001b[39;00m \u001b[38;5;28;01mas\u001b[39;00m e:\n\u001b[0;32m    141\u001b[0m     \u001b[38;5;66;03m# Normal TypeError does not print class name.\u001b[39;00m\n\u001b[0;32m    142\u001b[0m     cls_location \u001b[38;5;241m=\u001b[39m \u001b[38;5;124m'\u001b[39m\u001b[38;5;124m/\u001b[39m\u001b[38;5;124m'\u001b[39m\u001b[38;5;241m.\u001b[39mjoin(\n\u001b[0;32m    143\u001b[0m         obj_cls\u001b[38;5;241m.\u001b[39m\u001b[38;5;18m__module__\u001b[39m\u001b[38;5;241m.\u001b[39msplit(\u001b[38;5;124m'\u001b[39m\u001b[38;5;124m.\u001b[39m\u001b[38;5;124m'\u001b[39m))  \u001b[38;5;66;03m# type: ignore\u001b[39;00m\n\u001b[1;32m--> 144\u001b[0m     \u001b[38;5;28;01mraise\u001b[39;00m \u001b[38;5;28mtype\u001b[39m(e)(\n\u001b[0;32m    145\u001b[0m         \u001b[38;5;124mf\u001b[39m\u001b[38;5;124m'\u001b[39m\u001b[38;5;124mclass `\u001b[39m\u001b[38;5;132;01m{\u001b[39;00mobj_cls\u001b[38;5;241m.\u001b[39m\u001b[38;5;18m__name__\u001b[39m\u001b[38;5;132;01m}\u001b[39;00m\u001b[38;5;124m` in \u001b[39m\u001b[38;5;124m'\u001b[39m  \u001b[38;5;66;03m# type: ignore\u001b[39;00m\n\u001b[0;32m    146\u001b[0m         \u001b[38;5;124mf\u001b[39m\u001b[38;5;124m'\u001b[39m\u001b[38;5;132;01m{\u001b[39;00mcls_location\u001b[38;5;132;01m}\u001b[39;00m\u001b[38;5;124m.py: \u001b[39m\u001b[38;5;132;01m{\u001b[39;00me\u001b[38;5;132;01m}\u001b[39;00m\u001b[38;5;124m'\u001b[39m)\n",
      "\u001b[1;31mTypeError\u001b[0m: class `ABCNet` in abcnet/model/abcnet.py: class `RecRoIHead` in abcnet/model/rec_roi_head.py: class `ABCNetRec` in abcnet/model/abcnet_rec.py: class `ABCNetRecDecoder` in abcnet/model/abcnet_rec_decoder.py: function takes exactly 5 arguments (1 given)"
     ]
    }
   ],
   "source": [
    "import time\n",
    "from mmengine.runner import Runner\n",
    "cfg.visualizer.name = f'{time.localtime()}'\n",
    "\n",
    "runner = Runner.from_cfg(cfg)"
   ]
  },
  {
   "cell_type": "code",
   "execution_count": null,
   "id": "b01d5197",
   "metadata": {},
   "outputs": [],
   "source": []
  },
  {
   "cell_type": "code",
   "execution_count": null,
   "id": "f0cae68d",
   "metadata": {},
   "outputs": [],
   "source": []
  },
  {
   "cell_type": "code",
   "execution_count": 23,
   "id": "180e762c",
   "metadata": {},
   "outputs": [
    {
     "ename": "NameError",
     "evalue": "name 'runner' is not defined",
     "output_type": "error",
     "traceback": [
      "\u001b[1;31m---------------------------------------------------------------------------\u001b[0m",
      "\u001b[1;31mNameError\u001b[0m                                 Traceback (most recent call last)",
      "Cell \u001b[1;32mIn[23], line 1\u001b[0m\n\u001b[1;32m----> 1\u001b[0m \u001b[43mrunner\u001b[49m\u001b[38;5;241m.\u001b[39mtrain()\n",
      "\u001b[1;31mNameError\u001b[0m: name 'runner' is not defined"
     ]
    }
   ],
   "source": [
    "runner.train()"
   ]
  },
  {
   "cell_type": "code",
   "execution_count": null,
   "id": "f80dc988",
   "metadata": {},
   "outputs": [],
   "source": []
  }
 ],
 "metadata": {
  "kernelspec": {
   "display_name": "Python 3 (ipykernel)",
   "language": "python",
   "name": "python3"
  },
  "language_info": {
   "codemirror_mode": {
    "name": "ipython",
    "version": 3
   },
   "file_extension": ".py",
   "mimetype": "text/x-python",
   "name": "python",
   "nbconvert_exporter": "python",
   "pygments_lexer": "ipython3",
   "version": "3.10.9"
  }
 },
 "nbformat": 4,
 "nbformat_minor": 5
}
